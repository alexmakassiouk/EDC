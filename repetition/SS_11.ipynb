{
 "cells": [
  {
   "cell_type": "markdown",
   "metadata": {},
   "source": [
    "# Self Study 11: 2nd Order Difference Equations and Multiplier-Accelerator Models\n",
    "\n",
    "In this self study we will review how to work with difference equations, solve them analytically and interpret their behaviour given their characteristic equation.\n",
    "\n",
    "Specifically, in this self study we will:\n",
    "\n",
    "1. Review how to solve a 1st order difference equation\n",
    "2. See how to solve a 2nd order difference equation\n",
    "3. Derive the analytical solution for  a simplified multiplier-accelerator model\n",
    "4. Interpret the solution of the multiplier-accelerator model, using the characteristic equation\n"
   ]
  },
  {
   "cell_type": "code",
   "execution_count": null,
   "metadata": {},
   "outputs": [],
   "source": [
    "import sympy as sp\n",
    "import numpy as np\n",
    "import matplotlib.pyplot as plt\n",
    "from IPython.display import display, Markdown\n",
    "\n",
    "# set nice plotting defaults\n",
    "plt.style.use('seaborn-v0_8-whitegrid')"
   ]
  },
  {
   "cell_type": "markdown",
   "metadata": {},
   "source": [
    "## Section 1: 1st to 2nd order linear *difference* equations\n",
    "\n",
    "To explore and solve models defined as difference equations we need to learn how to work with them. We will start with first order difference equations. These are equations where the variable of interest is only a function of its previous value.\n",
    "\n",
    "Consider the first order homogeneous linear difference equation.\n",
    "$$\n",
    "x(t+1) = a x(t) \\quad \\text{and} \\quad x(0) = a x_0\n",
    "$$\n",
    "\n",
    "Lets look at a few value of $t$, to see if there is a pattern."
   ]
  },
  {
   "cell_type": "code",
   "execution_count": null,
   "metadata": {},
   "outputs": [],
   "source": [
    "x = sp.Function(\"x\")\n",
    "x0 = sp.symbols(\"x_0\")\n",
    "a = sp.symbols(\"a\")\n",
    "\n",
    "def x_func(t, a):\n",
    "    return x0 if t == 0 else a * x_func(t - 1, a)\n",
    "\n",
    "for t in [0, 1, 2, 3, 10]:\n",
    "    expression = x_func(t, a)\n",
    "    display(Markdown(f\"$$ x({t}) = {sp.latex(expression)} $$\"))"
   ]
  },
  {
   "cell_type": "markdown",
   "metadata": {},
   "source": [
    "Indeed we see that $x(t) = a^t x_0$ is a solution to the difference equation. With this we have found a way to express the evolution of $x(t)$ for any $t$. Also for $t \\in \\mathbb{R}$, as long as we take only the real part."
   ]
  },
  {
   "cell_type": "markdown",
   "metadata": {},
   "source": [
    "#### An Example: The Harrod-Domar Model\n",
    "\n",
    "As an example of an economic model formulated as first order difference equation lets consider the *Harrod-Domar* model of economic growth. The model is characterized by the following equations:\n",
    "\n",
    "$$\n",
    "\\begin{align*}\n",
    "S_t &= s Y(t) \\\\\n",
    "I_t &= v ( Y(t) - Y(t-1) ) \\\\\n",
    "S_t &= I_t \\\\\n",
    "\\end{align*}\n",
    "$$\n",
    "\n",
    "where $S$ is the savings, $I$ is investment, $Y$ is the output, $s$ the savings rate and $v$ is the capital accumulation rate. The last equation is an accounting identity that says that savings and investment are equal, despite the fact that they are determined by different factors.\n",
    "\n",
    "Solving for $Y(t)$ we get the following first order difference equation:\n",
    "\n",
    "$$\n",
    "Y(t) = \\frac{v}{v-s} Y(t-1)\n",
    "$$\n",
    "\n",
    "**Question:** What is the equilibrium of the system, i.e., what is $Y^*$ such that $Y(t) = Y(t-1) = Y^*$?\n",
    "\n",
    "**Answer:** \n",
    "\n"
   ]
  },
  {
   "cell_type": "markdown",
   "metadata": {},
   "source": [
    "\n",
    "\n",
    "**Question:** Wat is the analytical solution for the *evolution* of $Y(t)$?\n",
    "\n",
    "**Answer:** \n",
    "\n",
    "\n",
    "**Task:** Define the evolution of output $Y(t)$ in two ways, analytically (i.e., the answer above) and recursively (i.e, applying $Y(t)$ iteratively to itself with $Y(0) = Y_0$. \n",
    "\n",
    "Plot them for $t$ from 0 to 10 and show that they are the same."
   ]
  },
  {
   "cell_type": "code",
   "execution_count": null,
   "metadata": {},
   "outputs": [],
   "source": [
    "# plot the system for different values of a\n",
    "from ipywidgets import interact\n",
    "from functools import lru_cache\n",
    "\n",
    "# When working with recursive function we may end up calling the same function far \"too often\".\n",
    "# Specifically, we may call the function with the same arguments yielding the same result multiple times.\n",
    "# This is a waste of computation. We can avoid it by using \"memoization\", i.e. storing the\n",
    "# results of previous function calls. This is what the @lru_cache decorator does.\n",
    "\n",
    "@lru_cache(maxsize=None)\n",
    "def hd_recursion(x0, t, v, s):\n",
    "    # this function will call itself multiple times with the same arguments.\n",
    "    # NOTE: when t=0, return x0, otherwise the function will never terminate.\n",
    "    pass\n",
    "\n",
    "# plot the system for different values of a\n",
    "def plot_hd_recursive(x0, v, s):\n",
    "    pass\n"
   ]
  },
  {
   "cell_type": "code",
   "execution_count": null,
   "metadata": {},
   "outputs": [],
   "source": [
    "def hd_analytic(x0, t, v, s):\n",
    "    pass\n",
    "\n",
    "\n",
    "# @interact(s=(0.01, 0.9, 0.1), v=(0.1, 0.9, 0.1))\n",
    "def plot_hd_analytic(x0, s, v):\n",
    "   pass\n",
    "    \n",
    "plot_hd_analytic(x0=1, s=0.5, v=0.23)\n",
    "plot_hd_recursive(x0=1, s=0.5, v=0.23)"
   ]
  },
  {
   "cell_type": "markdown",
   "metadata": {},
   "source": [
    "**Question:** What can we say about the behaviour of the system for $a = \\frac{v}{v-s}$?\n",
    "\n",
    "**Answer:**"
   ]
  },
  {
   "cell_type": "markdown",
   "metadata": {},
   "source": [
    "#### Non-homogeneous 1st order difference equations\n",
    "\n",
    "Consider a slight modification of the Harrod-Domar model, where we add a constant term to the investment $I_0$. You can think of this as a government investment program.\n",
    "\n",
    "$$\n",
    "\\begin{align}\n",
    "S_t &= s Y(t) \\\\\n",
    "I_t &= v ( Y(t) - Y(t-1) ) + I_0 \\\\\n",
    "S_t &= I_t \\\\\n",
    "\\end{align}\n",
    "$$\n",
    "\n",
    "**Question:** What is the equilibrium of the system now?"
   ]
  },
  {
   "cell_type": "code",
   "execution_count": null,
   "metadata": {},
   "outputs": [],
   "source": [
    "s = sp.symbols(\"s\")\n",
    "v = sp.symbols(\"v\")\n",
    "t = sp.symbols(\"t\")\n",
    "I_0 = sp.symbols(\"I_0\")\n",
    "Y = sp.Function(\"Y\")\n",
    "\n",
    "# Your code here, or solve it by hand"
   ]
  },
  {
   "cell_type": "markdown",
   "metadata": {},
   "source": [
    "**Answer:**"
   ]
  },
  {
   "cell_type": "markdown",
   "metadata": {},
   "source": [
    "**Solving for the evolution of $Y(t)$**\n",
    "\n",
    "An approach to solve *non-homogeneous* difference equations to subtract from all $Y(t)$ the equilibrium $Y^*$.\n",
    "$$\n",
    "\\begin{align}\n",
    "Y(t) - Y^* &= \\frac{v}{v-s} \\left( Y(t-1) - Y^* \\right) \\\\\n",
    "\\bar{Y}(t) &= \\frac{v}{v-s} \\bar{Y}(t-1)\n",
    "\\end{align}\n",
    "$$\n",
    "\n",
    "After defining $\\bar{Y}(t) = Y(t) - Y^*$ we are back to a homogeneous difference equation, for which we already know the solution.\n",
    "\n",
    "$$\n",
    "\\bar{Y}(t) = \\left(\\frac{v}{v-s}\\right)^t \\bar{Y}(0)\n",
    "$$\n",
    "\n",
    "In short we have shown tha the solution to the non-homogeneous difference equation can be reduced to the solution of the homogeneous difference equation if we subtract the equilibrium from the variable of interest."
   ]
  },
  {
   "cell_type": "markdown",
   "metadata": {},
   "source": [
    "## Intermezzo: 2nd order linear *difference* equations\n",
    "\n",
    "Lets consider a second order linear difference equation.\n",
    "\n",
    "$$\n",
    "x(t+2) = a x(t+1) + b x(t)\n",
    "$$\n",
    "\n",
    "We have seen that the solution to the *first order* difference equation is given by $x(t) = a^t x_0$.\\\n",
    "Through an analogous, but more involved argument, one can show that the solution to the second order difference equation has the form \n",
    "\n",
    "\n",
    "$$\n",
    "x(t) = c_1 r^t + c_2 s^t\n",
    "$$\n",
    "\n",
    "for some constants $r$, $s$ and $c_1$ and $c_2$. If this is indeed the solution, then it should also be the case that:\n",
    "\n",
    "$$\n",
    "\\underbrace{c_1 r^{t+2} + c_2 s^{t+2}}_{x(t+2)} = \\underbrace{a \\left( c_1 r^{t+1} + c_2 s^{t+1} \\right) + b \\left( c_1 r^t + c_2 s^t \\right)}_{ a x(t+1) + b x(t)}\n",
    "$$\n",
    "\n",
    "To find the solution we need to find $r$ and $s$ satisfying this relation. Lets rearrange the equation a bit and factor to get:\n",
    "$$\n",
    "c_1 r^t \\left( r^2 - a r - b \\right) + c_2 s^t \\left( s^2 - a s - b \\right) = 0\n",
    "$$\n",
    "\n",
    "This relation is satisfied *iff* both coefficients involving $r$ and $s$, of the **characteristic equation** are zero:\n",
    "\n",
    "$$\n",
    "x^2 - a x - b = 0 \\qquad  x \\in \\{r, s\\}\n",
    "$$\n",
    "\n",
    "That is,\n",
    "$$\n",
    "r, s = \\frac{-a \\pm \\sqrt{a^2 + 4 b}}{2}\n",
    "$$\n",
    "\n",
    "where $r$ is the larger root, i.e, $|r| > |s|$, which is also known as the **dominant root**.\n",
    "\n",
    "\n",
    "To find $c_1$ and $c_2$ we recall that:\n",
    "$$\n",
    "\\begin{align}\n",
    "y_0 &= c_1 r^0 + c_2 s^0 = c_1 + c_2 \\\\\n",
    "y_1 &= c_1 r^1 + c_2 s^1 = c_1 r + c_2 s\n",
    "\\end{align}"
   ]
  },
  {
   "cell_type": "markdown",
   "metadata": {},
   "source": [
    "**Question:** Find the analytical expression for $c_1$ and $c_2$ given the system of equations above.\n",
    "\n",
    "**Answer:**\n"
   ]
  },
  {
   "cell_type": "markdown",
   "metadata": {},
   "source": [
    "\n",
    "#### Interpreting the Roots of Second-Order Difference Equations\n",
    "\n",
    "There is a close connection between the roots of the characteristic equation and the behaviour of the system [^1]. We can distinguish three cases:\n",
    "\n",
    "1. The roots are real and distinct, i.e., $r \\neq s$.\n",
    "2. The roots are real and equal, i.e., $r = s$.\n",
    "3. The roots are complex conjugates, i.e., $r = \\alpha + i \\beta$ and $s = \\alpha - i \\beta$.\n",
    "\n",
    "\n",
    "##### Case 1: Real and Distinct Roots\n",
    "\n",
    "The long term behaviour is determined by the dominant root, $r$.\n",
    "\n",
    "1. $r > 1$ the system diverges, since $r^t \\to \\infty$ as $t \\to \\infty$.\n",
    "2. $r = 1$ the system is stable, since $r^t = 1$ for all $t$.\n",
    "3. $0 \\leq r < 1$ the system monotonically decays to zero: $r^t \\to 0$ as $t \\to \\infty$.\n",
    "4. $-1 < r \\leq 0$ the system oscillates and decays to zero.\n",
    "5. $r = -1$ the system oscillates between 2 values: since $r^t = (-1)^t$.\n",
    "6. $r < -1$ the system oscillates and diverges: $r^t \\to \\pm \\infty$ as $t \\to \\infty$.\n",
    "\n",
    "##### Case 2: Real and Equal Roots\n",
    "\n",
    "In this case $r = s$ so we describe in terms of $r$.\n",
    "\n",
    "1. $|r| \\geq 1$ the system diverges monotonically.\n",
    "2. $|r| < 1$ the system converges to zero.\n",
    "4. $r \\leq -1$ the system oscillates\n",
    "\n",
    "##### Case 3: Complex Conjugate Roots\n",
    "\n",
    "Ihe solutions are of the form: $r = \\alpha + i \\beta$ and $s = \\alpha - i \\beta$.\n",
    "\n",
    "In this case the system oscillates.\n",
    "Whether it decays or diverges depends on a more complicated relationship, but you are welcome to explore this on your own [^1].\n",
    "\n",
    "\n",
    "[^1]: *See Shone, Economic Dynamics (2002), Chapter 3 for more details*\n"
   ]
  },
  {
   "cell_type": "markdown",
   "metadata": {},
   "source": [
    "### Summary:\n",
    "In short we has seen how to solve the 2nd order linear difference equation via the characteristic equation.\n",
    "\n",
    "Note how to obtain the characteristic equation from the difference equation:\n",
    "\n",
    "$$\n",
    "\\begin{align}\n",
    "y(t+2) &= a y(t+1) + b y(t) \\\\\n",
    "y(t+2) - a y(t+1) - b y(t)&= 0 \\\\\n",
    "x^2 - a x - b &= 0\n",
    "\\end{align}\n",
    "$$\n",
    "\n",
    "after solving for $r$ and $s$ we can write the solution as:\n",
    "\n",
    "$$\n",
    "x(t) = c_1 r^t + c_2 s^t\n",
    "$$\n",
    "\n",
    "The behaviour of the system is determined by the roots of the characteristic equation, specifically the dominant root $r$."
   ]
  },
  {
   "cell_type": "markdown",
   "metadata": {},
   "source": [
    "## Section 2: The Multiplier-Accelerator Model (Evolution)\n",
    "\n",
    "The multiplier-accelerator first outlined by Samuelson (1939) is a simple model of the business cycle. I will use a slightly different version from the one used in the lecture.\n",
    "\n",
    "$$\n",
    "C_t = a + b Y_{t-1}\n",
    "$$\n",
    "\n",
    "Investment is a function of the change in output,\n",
    "\n",
    "$$\n",
    "I_t = v ( Y_{t-1} - Y_{t-2} )\n",
    "$$\n",
    "\n",
    "Finally we assume that the economy is closed,\n",
    "$$\n",
    "Y_t = C_t + I_t\n",
    "$$\n",
    "\n",
    "Notice, how the model can be seen as an extension of the Harrod-Domar model.\n",
    "### Task 1: Find the recurrence relation\n",
    "\n",
    "Find $Y_t$ as a function of its previous values, e.g., $Y_{t-1}$ and $Y_{t-2}$."
   ]
  },
  {
   "cell_type": "code",
   "execution_count": null,
   "metadata": {},
   "outputs": [],
   "source": [
    "# your code here or solve it by hand"
   ]
  },
  {
   "cell_type": "markdown",
   "metadata": {},
   "source": [
    "### Task 2: Find the equilibrium output\n",
    "\n",
    "Find the the equilibrium output $Y^*$, i.e., the value of $Y_t$ such that $Y_t = Y_{t-1} = Y_{t-2}$."
   ]
  },
  {
   "cell_type": "code",
   "execution_count": null,
   "metadata": {},
   "outputs": [],
   "source": [
    "## EQUILIBRIUM\n",
    "# your code here or solve it by hand"
   ]
  },
  {
   "cell_type": "markdown",
   "metadata": {},
   "source": [
    "### Task 3: Plot the evolution of the system and the equilibrium\n",
    "\n",
    "Using the recurrence relation you found above and the equilibrium value, plot the evolution of the system for different values of $b$ and $v$.\n",
    "Specifically, plot $Y_t$ and $Y^*$ as a function of $t$ and the phase diagram of $Y_{t-1}$ vs $Y_t$."
   ]
  },
  {
   "cell_type": "code",
   "execution_count": null,
   "metadata": {},
   "outputs": [],
   "source": [
    "\n",
    "\n",
    "@lru_cache(maxsize=None)\n",
    "def y_evolution(t, a, b, v, y0, y1):\n",
    "    # your code here\n",
    "    pass\n",
    "\n",
    "# Plot the evolution of y for different values of a and b\n",
    "\n",
    "# Plot the phase diagram for different values of a and b"
   ]
  },
  {
   "cell_type": "markdown",
   "metadata": {},
   "source": [
    "## Section 3: The Multiplier-Accelerator Model (Characteristics Equation)\n",
    "\n",
    "### Task 1: Finding the characteristic equation\n",
    "\n",
    "To simplify the derivation we will assume that we deal with a homogeneous system, i.e., we assume that in the model $a = 0$."
   ]
  },
  {
   "cell_type": "markdown",
   "metadata": {},
   "source": [
    "Remember from the previous section that the characteristic equation (in $x$) for the difference equation (in $y$) is given by:\n",
    "\n",
    "\n",
    "$$\n",
    "\\begin{align}\n",
    "y(t+2) &= &A y(t+1) + &B y(t) \\\\\n",
    "0 &= y(t+2) &- A y(t+1) - &B y(t) \\\\\n",
    "0 &= x^2 &- A x - &B\n",
    "\\end{align}\n",
    "$$\n",
    "\n",
    "So we need to find the the coefficients after putting the difference equation in the form, and identify $A$ and $B$.\n",
    "\n",
    "$$\n",
    "Y(t) - A Y(t-1) + B Y(t-2) = 0\n",
    "$$\n",
    "\n",
    "and find the roots of the characteristic equation."
   ]
  },
  {
   "cell_type": "code",
   "execution_count": null,
   "metadata": {},
   "outputs": [],
   "source": []
  },
  {
   "cell_type": "markdown",
   "metadata": {},
   "source": [
    "**Question:** What are the roots of the characteristic equation? What can these roots tell us about the behaviour of the system?\n",
    "\n",
    "**Answer:**\n"
   ]
  },
  {
   "cell_type": "markdown",
   "metadata": {},
   "source": [
    "#### Task 2: Find the analytical solution for the multiplier-accelerator model\n",
    "\n",
    "\n",
    "**Question:** With $r$ and $s$ write down the explicit form for $c_1$ and $c_2$ for the multiplier-accelerator model.\n",
    "\n",
    "\n",
    "**Answer:**\n",
    "\n"
   ]
  },
  {
   "cell_type": "code",
   "execution_count": null,
   "metadata": {},
   "outputs": [],
   "source": [
    "y0, y1 = sp.symbols(\"y_0 y_1\")\n",
    "\n",
    "c1 = # your code here\n",
    "c2 = # your code here"
   ]
  },
  {
   "cell_type": "markdown",
   "metadata": {},
   "source": [
    "**Question:** What does the equation for $Y_t$ look like (with $a=0$)? (Note, it is not a nice expression)."
   ]
  },
  {
   "cell_type": "code",
   "execution_count": null,
   "metadata": {},
   "outputs": [],
   "source": [
    "# putting it all together"
   ]
  },
  {
   "cell_type": "markdown",
   "metadata": {},
   "source": [
    "### Task 4: Plot the analytical solution\n",
    "\n",
    "\n",
    "Using the analytical solution you found above, plot the evolution of the system for different values of $b$ and $v$."
   ]
  },
  {
   "cell_type": "code",
   "execution_count": null,
   "metadata": {},
   "outputs": [],
   "source": []
  },
  {
   "cell_type": "markdown",
   "metadata": {},
   "source": [
    "### Task 5: Interpret analytical solution using the dominant root\n",
    "\n",
    "**Question:** What is the dominant root?\n",
    "\n",
    "**Answer:** \n",
    "\n",
    "**Question:** Given the following values for $b$ and $v$ and the resulting $r$ and $s$, what can you say about the behaviour of the system?"
   ]
  },
  {
   "cell_type": "code",
   "execution_count": null,
   "metadata": {},
   "outputs": [],
   "source": [
    "def roots(b, v):\n",
    "    char_A = (b + v)\n",
    "    char_B = v\n",
    "    rs = sp.solve(x**2 - char_A * x + char_B, x)\n",
    "    if len(rs) == 1: # only a single root r=s\n",
    "        return rs[0], rs[0]\n",
    "    else:  # return the root with the largest absolute value first\n",
    "        return sorted(rs, key=lambda r: np.abs(r), reverse=True)\n",
    "\n",
    "parameters = [\n",
    "    {\"b\": 1/2, \"v\": 3},\n",
    "    {\"b\": 1, \"v\": 1/2},\n",
    "    {\"b\": 1, \"v\": 1},\n",
    "    {\"b\": 1/2, \"v\": 1/2},\n",
    "]\n",
    "\n",
    "# print nicely formatted table in markdown\n",
    "table = \"| $b$ | $v$ | $r$ | $s$ |\\n|---|---|---|---|\\n\"\n",
    "for p in parameters:\n",
    "    r, s = roots(**p)\n",
    "    table += f\"| {p['b']} | {p['v']} | {r} | {s} |\\n\"\n",
    "display(Markdown(table))"
   ]
  },
  {
   "cell_type": "code",
   "execution_count": null,
   "metadata": {},
   "outputs": [],
   "source": []
  }
 ],
 "metadata": {
  "kernelspec": {
   "display_name": "edc",
   "language": "python",
   "name": "python3"
  },
  "language_info": {
   "codemirror_mode": {
    "name": "ipython",
    "version": 3
   },
   "file_extension": ".py",
   "mimetype": "text/x-python",
   "name": "python",
   "nbconvert_exporter": "python",
   "pygments_lexer": "ipython3",
   "version": "3.11.5"
  }
 },
 "nbformat": 4,
 "nbformat_minor": 2
}
