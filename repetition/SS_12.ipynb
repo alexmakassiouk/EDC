{
 "cells": [
  {
   "cell_type": "markdown",
   "metadata": {},
   "source": [
    "# Self Study 12: The Hicks Model\n"
   ]
  },
  {
   "cell_type": "markdown",
   "metadata": {},
   "source": [
    "## Section 1: Hicks Model with autonomous investment\n",
    "\n",
    "The model is given by the following equations:\n",
    "\n",
    "$$\n",
    "\\begin{align}\n",
    "C_t &= c_0 + c Y_t \\\\\n",
    "I_t &= I_0 (1+g)^t + b * (Y_t - Y_{t-1}) \\\\\n",
    "Y_t &= C_t + I_t \\\\\n",
    "\\end{align}\n",
    "$$\n",
    "\n",
    "where $c_0, c, I_0, g, b$ are positive constants.\n",
    "\n",
    "Note, that unlike in the previous self study, in the Hicks model investment has both an autonomous and an induced component. The autonomous component is given by $I_0 (1+g)^t$ and the induced component is given by $b * (Y_t - Y_{t-1})$.\n",
    "\n",
    "### Task 1: Find the update rule for $Y_t$, either with `sympy` or by hand."
   ]
  },
  {
   "cell_type": "code",
   "execution_count": 1,
   "metadata": {},
   "outputs": [],
   "source": [
    "import sympy as sp"
   ]
  },
  {
   "cell_type": "markdown",
   "metadata": {},
   "source": [
    "## Task 2: Find the equilibrium output $Y^*$"
   ]
  },
  {
   "cell_type": "code",
   "execution_count": null,
   "metadata": {},
   "outputs": [],
   "source": []
  },
  {
   "cell_type": "markdown",
   "metadata": {},
   "source": [
    "**Question:** What is unique about this equilibrium solution?\n",
    "\n",
    "**Answer:** The equilibrium solution is not unique. The equilibrium solution changes with time, $t$."
   ]
  },
  {
   "cell_type": "markdown",
   "metadata": {},
   "source": [
    "## Section 2: Describe the behavior of the system\n",
    "\n",
    "Using the characteristics equation approach we have discussed in class and in the last self study (SS11) write the equation for $Y_t$ you found above in the form of a second order difference equation and find its characteristics roots.\n",
    "\n",
    "Assume that $I_0 (1 + g)^t + c_0=0$, which makes this a homogenous equation which only depends on $Y(\\cdot)$, $b$ and $c$."
   ]
  },
  {
   "cell_type": "markdown",
   "metadata": {},
   "source": [
    "**Question:** When are these roots real?\n",
    "\n",
    "**Answer:**\n",
    "\n",
    "**Question:** Assuming that the roots are real, what is the condition for stability?\n",
    "\n",
    "**Answer:** "
   ]
  },
  {
   "cell_type": "markdown",
   "metadata": {},
   "source": [
    "## Section 3: Introducing maximum and minimum output\n",
    "\n",
    "These results are very similar to the Samuelson model discussed in the last self study.\n",
    "As we have noted, while the model is able to generate cycles, they are structurally unstable; a slight shift ing $b$ above or blow 1 leads the system to either ex or implode.\n",
    "\n",
    "Hicks (1950) proposed that we add a ceilings and floors to the output.\n",
    "\n",
    "Speficially we will assume that the evolution of output is given by:\n",
    "\n",
    "$$\n",
    "Y_t = (b + c) Y_{t - 1} - b Y_{t - 2 } + I_{0} (g + 1)^{t}+ c_{0} \n",
    "$$\n",
    "\n",
    "but now, ever time this output falls below $Y_{min}$ or above $Y_{max}$, the output is reset to $Y_{min}$ or $Y_{max}$ respectively.\n",
    "\n",
    "$$\n",
    "Y_\\text{min} = \\frac{c_0+I_0 (1+g)^t - d}{1-c}\n",
    "$$\n",
    "\n",
    "$$\n",
    "Y_\\text{max} = \\frac{c_0+I_0 (1+g)^t + m \\times t}{1-c}\n",
    "$$\n",
    "\n",
    "where $d$ and $m$ are positive constants describing the distance from the equilibrium output (you found above).\n",
    "\n",
    "### Task 1: Write the model in python using either recursion, for loops or OOP.\n",
    "\n",
    "### Task 2: Plot the evolution for the following parameter values:\n",
    "\n",
    "`b=3.5, c=0.6, g=0.03, d=1.4, m=1.1, I_0=1, c_0=1, Y0=5, Y1=4, t_max=100`"
   ]
  },
  {
   "cell_type": "code",
   "execution_count": null,
   "metadata": {},
   "outputs": [],
   "source": []
  }
 ],
 "metadata": {
  "kernelspec": {
   "display_name": "edc",
   "language": "python",
   "name": "python3"
  },
  "language_info": {
   "codemirror_mode": {
    "name": "ipython",
    "version": 3
   },
   "file_extension": ".py",
   "mimetype": "text/x-python",
   "name": "python",
   "nbconvert_exporter": "python",
   "pygments_lexer": "ipython3",
   "version": "3.11.5"
  }
 },
 "nbformat": 4,
 "nbformat_minor": 2
}
