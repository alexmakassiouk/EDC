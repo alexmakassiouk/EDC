{
 "cells": [
  {
   "cell_type": "markdown",
   "metadata": {},
   "source": [
    "# The Bass Innovation Model"
   ]
  },
  {
   "cell_type": "code",
   "execution_count": 1,
   "metadata": {},
   "outputs": [],
   "source": [
    "from scipy.integrate import odeint\n",
    "import numpy as np\n",
    "import matplotlib.pyplot as plt\n",
    "from ipywidgets import interact\n",
    "\n",
    "# Time vector\n",
    "t = np.linspace(0, 50, 100)"
   ]
  },
  {
   "cell_type": "markdown",
   "metadata": {},
   "source": [
    "### Simple Bass model\n",
    "\n",
    "Translate the Bass model to Python using the following set of differential equations:\n",
    "\n",
    "$$\n",
    "\\begin{align*}\n",
    "\\frac{dA}{dt} &= c \\cdot i \\cdot A \\cdot P \\\\\n",
    "\\frac{dP}{dt} &= -\\frac{dA}{dt}\n",
    "\\end{align*}\n",
    "$$\n",
    "\n",
    "where `A` is the proportion of adopters, `P` is the proportion of potential adopters, `c` is the contact rate, `i` is the probability of adoption. Solve the model with Scipy's `odeint` and create interactive plots with `ipywidgets`."
   ]
  },
  {
   "cell_type": "code",
   "execution_count": 2,
   "metadata": {},
   "outputs": [],
   "source": [
    "# Define the system of ODEs\n",
    "def adoption_dt(y, t, c, i):\n",
    "    # your code here\n",
    "    dAdt = c*i*y[0]*y[1]\n",
    "    dPdt = -dAdt\n",
    "    return [dAdt, dPdt]\n",
    "\n",
    "initial_conditions = [.01, .99]"
   ]
  },
  {
   "cell_type": "code",
   "execution_count": 3,
   "metadata": {},
   "outputs": [
    {
     "data": {
      "application/vnd.jupyter.widget-view+json": {
       "model_id": "a7a7323a0e9943ecb80b9dc2a4a80355",
       "version_major": 2,
       "version_minor": 0
      },
      "text/plain": [
       "interactive(children=(FloatSlider(value=0.5, description='c', max=1.0, min=0.1), FloatSlider(value=0.5, descri…"
      ]
     },
     "metadata": {},
     "output_type": "display_data"
    }
   ],
   "source": [
    "# Interactive plot\n",
    "@interact(c=(0.1, 1, 0.1), i=(0.1, 1, 0.1))\n",
    "def plot(c, i):\n",
    "    solution = odeint(adoption_dt, initial_conditions, t, args=(c, i))\n",
    "    A, P = solution.T\n",
    "    plt.figure(figsize=(6, 4))\n",
    "    plt.plot(t, A, label='Adopters')\n",
    "    plt.plot(t, P, label='Potential Adopters')\n",
    "    plt.xlabel('Time')\n",
    "    plt.ylabel('Population')\n",
    "    plt.legend()\n",
    "    plt.grid(True)\n",
    "    plt.show()\n"
   ]
  },
  {
   "cell_type": "markdown",
   "metadata": {},
   "source": [
    "\n",
    "### Addition of drop rate\n",
    "\n",
    "Extend the model by adding a term representing the people who drop out of the adopters group:\n",
    "\n",
    "$$\n",
    "\\begin{align*}\n",
    "\\frac{dA}{dt} &= c \\cdot i \\cdot A \\cdot P - d \\cdot A \\\\\n",
    "\\frac{dP}{dt} &= -c \\cdot i \\cdot A \\cdot P \\\\\n",
    "\\frac{dD}{dt} &= d \\cdot A\n",
    "\\end{align*}\n",
    "$$\n",
    "\n",
    "where `D` is the number of droppers and `d` is the drop rate. Again, solve the model and create interactive plots."
   ]
  },
  {
   "cell_type": "code",
   "execution_count": 5,
   "metadata": {},
   "outputs": [
    {
     "data": {
      "application/vnd.jupyter.widget-view+json": {
       "model_id": "8b2cf0d63c364890ae6aad5bc6313612",
       "version_major": 2,
       "version_minor": 0
      },
      "text/plain": [
       "interactive(children=(FloatSlider(value=0.8, description='c', max=1.0), FloatSlider(value=0.8, description='i'…"
      ]
     },
     "metadata": {},
     "output_type": "display_data"
    }
   ],
   "source": [
    "# Update the system of ODEs to include the drop rate\n",
    "def adoption_drop_dt(y, t, c, i, d):\n",
    "    dPdt = -c*i*y[0]*y[1]\n",
    "    dAdt = -dPdt - d*y[0]\n",
    "    dDdt = d*y[0]\n",
    "    # your code here\n",
    "    return [dAdt, dPdt, dDdt]\n",
    "\n",
    "initial_conditions = [.02, .97, .01]\n",
    "\n",
    "# Parameters\n",
    "d = 0.1\n",
    "\n",
    "# Update interactive plot\n",
    "@interact(c=(0.0, 1, 0.1), i=(0.0, 1, 0.1), d=(0.0, 1, 0.01))\n",
    "def plot(c=0.8, i=0.8, d=0.1):\n",
    "    solution = odeint(adoption_drop_dt, initial_conditions, t, args=(c, i, d))\n",
    "    A, P, D = solution.T\n",
    "    plt.figure(figsize=(6, 4))\n",
    "    plt.plot(t, A, label='Adopters')\n",
    "    plt.plot(t, P, label='Potential Adopters')\n",
    "    plt.plot(t, D, label='Droppers')\n",
    "    plt.xlabel('Time')\n",
    "    plt.ylabel('Population')\n",
    "    plt.legend()\n",
    "    plt.grid(True)\n",
    "    plt.show()\n"
   ]
  },
  {
   "cell_type": "markdown",
   "metadata": {},
   "source": [
    "\n",
    "### Adding reset rate\n",
    "\n",
    "Now include a reset rate `r` where some of the droppers become potential adopters again:\n",
    "\n",
    "$$\n",
    "\\begin{align*}\n",
    "\\frac{dA}{dt} &= c \\cdot i \\cdot A \\cdot P - d \\cdot A \\\\\n",
    "\\frac{dP}{dt} &= r \\cdot D - c \\cdot i \\cdot A \\cdot P \\\\\n",
    "\\frac{dD}{dt} &= d \\cdot A - r \\cdot D\n",
    "\\end{align*}\n",
    "$$\n",
    "\n",
    "Solve the model and create interactive plots."
   ]
  },
  {
   "cell_type": "code",
   "execution_count": 7,
   "metadata": {},
   "outputs": [
    {
     "data": {
      "application/vnd.jupyter.widget-view+json": {
       "model_id": "285f607c709442cab649708286352ba0",
       "version_major": 2,
       "version_minor": 0
      },
      "text/plain": [
       "interactive(children=(FloatSlider(value=0.8, description='c', max=1.0), FloatSlider(value=0.8, description='i'…"
      ]
     },
     "metadata": {},
     "output_type": "display_data"
    }
   ],
   "source": [
    "# Update the system of ODEs to include the reset rate\n",
    "def adoption_reset_dt(y, t, c, i, d, r):\n",
    "    # your code here\n",
    "    ciap = c*i*y[0]*y[1]\n",
    "    dAdt = ciap-d*y[0]\n",
    "    dPdt = r*y[2]-ciap\n",
    "    dDdt = d*y[0]-r*y[2]\n",
    "    return [dAdt, dPdt, dDdt]\n",
    "\n",
    "# Parameters\n",
    "initial_conditions = [0.02, .97, .01]\n",
    "\n",
    "# Update interactive plot\n",
    "@interact(c=(0.0, 1, 0.1), i=(0.0, 1, 0.1), d=(0.0, 1, 0.01), r=(0.0, 1, 0.01))\n",
    "def plot(c=0.8, i=0.8, d=0.1, r=0.2):\n",
    "    solution = odeint(adoption_reset_dt, initial_conditions, t, args=(c, i, d, r))\n",
    "    A, P, D = solution.T\n",
    "    plt.figure(figsize=(6,4))\n",
    "    plt.plot(t, A, label='Adopters')\n",
    "    plt.plot(t, P, label='Potential Adopters')\n",
    "    plt.plot(t, D, label='Droppers')\n",
    "    plt.xlabel('Time')\n",
    "    plt.ylabel('Population')\n",
    "    plt.legend()\n",
    "    plt.grid(True)\n",
    "    plt.show()\n"
   ]
  },
  {
   "cell_type": "markdown",
   "metadata": {},
   "source": [
    "$$\n",
    "\\begin{align*}\n",
    "\\frac{dA}{dt} &= c \\cdot i \\cdot A \\cdot P - d \\cdot A \\\\\n",
    "\\frac{dP}{dt} &= r \\cdot D - c \\cdot i \\cdot A \\cdot P \\\\\n",
    "\\frac{dD}{dt} &= d \\cdot A - r \\cdot D\n",
    "\\end{align*}\n",
    "$$"
   ]
  },
  {
   "cell_type": "markdown",
   "metadata": {},
   "source": [
    "### Varying probability of adoption\n",
    "\n",
    "In the previous tasks, we assumed the probability of adoption `i` to be constant. Now, let's make it more interesting by making `i` be seasonal. To do we use the `np.sin()` function to create a sine wave. We then use this sine wave to vary the probability of adoption `i` over time. Note that this makes the ODE nonautonomous, which means that the right-hand side of the ODE depends on time."
   ]
  },
  {
   "cell_type": "code",
   "execution_count": 9,
   "metadata": {},
   "outputs": [
    {
     "data": {
      "application/vnd.jupyter.widget-view+json": {
       "model_id": "99ff15e4bb6f41e48ac262f907d36841",
       "version_major": 2,
       "version_minor": 0
      },
      "text/plain": [
       "interactive(children=(FloatSlider(value=0.5, description='c', max=1.0), FloatSlider(value=0.5, description='d'…"
      ]
     },
     "metadata": {},
     "output_type": "display_data"
    }
   ],
   "source": [
    "# Update the system of ODEs to make the probability of adoption vary with the proportion of adopters\n",
    "\n",
    "def adoption_prob(t):\n",
    "    return (np.cos(t/2) + 1)/ 2\n",
    "\n",
    "def adoption_var_dt(y, t, c, d, r):\n",
    "    # your code here\n",
    "    ciap = c*adoption_prob(t)*y[0]*y[1]\n",
    "    dAdt = ciap-d*y[1]\n",
    "    dPdt = r*y[2]-ciap\n",
    "    dDdt = d*y[1]-r*y[2]\n",
    "    return [dPdt, dAdt, dDdt]\n",
    "\n",
    "initial_conditions = [0.02, .97, 0.01]\n",
    "\n",
    "# Update interactive plot\n",
    "@interact(c=(0.0, 1, 0.1), d=(0.0, 1, 0.01), r=(0.0, 1, 0.01))\n",
    "def plot(c, d, r):\n",
    "    # Solve the system of ODEs\n",
    "    P, A, D = odeint(adoption_var_dt, initial_conditions, t, args=(c, d, r)).T\n",
    "\n",
    "    # Plot the results\n",
    "    plt.figure(figsize=(6, 4))\n",
    "    plt.plot(t, P, label='Potential Adopters')\n",
    "    plt.plot(t, A, label='Adopters')\n",
    "    plt.plot(t, D, label='Droppers')\n",
    "    plt.xlabel('Time')\n",
    "    plt.ylabel('Population')\n",
    "    plt.legend()\n",
    "    plt.grid(True)\n",
    "    plt.show()\n",
    "\n"
   ]
  },
  {
   "cell_type": "markdown",
   "metadata": {},
   "source": [
    "## Bonus: Complex Contagion (To be discussed in class)\n",
    "\n",
    "The Bass innovation model is a simple contagion model. It assumes that exposure to a single adopter is enough to turn a potential adopter into an actual adopter. This assumption, while simplifying the mathematics, might not be realistic for many social phenomena. \n",
    "\n",
    "The concept of [Complex contagion] provides a different perspective. According to this theory, many social behaviors require exposure from multiple sources before an individual adopts the behavior. These contagions can be more accurately described as \"complex,\" and include phenomena like strategic complementarity, credibility, legitimacy, and emotional contagion.\n",
    "\n",
    "To model complex contagions, the tools of complex network analysis are typically needed. In a network model, individuals are represented as nodes, and their social relationships are represented as edges. Complex contagions can then be modeled by stipulating that a node needs to be connected to a certain number of infected nodes before becoming infected itself.\n",
    "\n",
    "However, complex network analysis introduces its own challenges. For one, it's more computationally intensive than simple ODE models. Additionally, the results of network models can be harder to interpret, as they often depend on the specific structure of the network.\n",
    "\n",
    "ODE models like the Bass innovation model are powerful tools for understanding the spread of innovations, but they are not the only tool at our disposal.\n",
    "\n",
    "**Discussion Questions:**\n",
    "\n",
    "1. Can you think of any real-world examples of simple and complex contagions? How might they behave differently?\n",
    "2. How might you modify the Bass model to account for complex contagions?\n",
    "3. What challenges might you face when modeling complex contagions?\n",
    "4. How could you use real-world data to inform a network model of a complex contagion?\n",
    "5. What new insights might a network model provide, compared to a simple ODE model?\n",
    "6. How might the results of a network model inform business or policy decisions?\n",
    "\n",
    "[Complex contagion]: Centola, Damon, and Michael Macy. \"Complex Contagions and the Weakness of Long Ties.\" American Journal of Sociology 113, no. 3 (November 2007): 702–34. https://doi.org/10.1086/521848."
   ]
  },
  {
   "cell_type": "markdown",
   "metadata": {},
   "source": []
  },
  {
   "cell_type": "code",
   "execution_count": null,
   "metadata": {},
   "outputs": [],
   "source": [
    "import networkx as nx\n",
    "import matplotlib.pyplot as plt\n",
    "\n",
    "# Set the contagion threshold\n",
    "threshold = 2\n",
    "\n",
    "# List of initially infected nodes\n",
    "initial_infected_nodes = [1, 5, 4]\n",
    "\n",
    "def simulate_contagion(graph):\n",
    "    # Initialize all nodes as not infected\n",
    "    infected = [False] * graph.number_of_nodes()\n",
    "    \n",
    "    # Infect initial nodes\n",
    "    for node in initial_infected_nodes:\n",
    "        infected[node] = True\n",
    "\n",
    "    # Continue simulation until no new infections occur\n",
    "    while True:\n",
    "        new_infections = 0\n",
    "        for node in graph.nodes():\n",
    "            if not infected[node] and sum(infected[n] for n in graph.neighbors(node)) >= threshold:\n",
    "                infected[node] = True\n",
    "                new_infections += 1\n",
    "        if new_infections == 0:\n",
    "            break\n",
    "    return infected\n",
    "\n",
    "def plot_graph(graph, infected, title):\n",
    "    # Assign color based on infection status\n",
    "    node_colors = [\"orange\" if infected[node] else \"gray\" for node in graph.nodes()]\n",
    "    \n",
    "    # Draw the graph\n",
    "    nx.draw_spring(graph, with_labels=True, node_color=node_colors)\n",
    "    plt.title(title)\n",
    "    plt.show()\n",
    "\n",
    "# Graphs dictionary\n",
    "graphs = {\n",
    "    \"Chain graph\": nx.path_graph(30),\n",
    "    \"Ring lattice graph\": nx.watts_strogatz_graph(20, 6, 0),\n",
    "    \"G(n, p=0.05) graph\": nx.gnp_random_graph(30, 0.05),\n",
    "    \"G(n, p=0.1) graph\": nx.gnp_random_graph(30, 0.1),\n",
    "    \"G(n, p=0.2) graph\": nx.gnp_random_graph(30, 0.2),\n",
    "}\n",
    "\n",
    "# Run simulation and plot each graph\n",
    "for title, graph in graphs.items():\n",
    "    infected = simulate_contagion(graph)\n",
    "    plot_graph(graph, infected, title)\n"
   ]
  },
  {
   "cell_type": "code",
   "execution_count": null,
   "metadata": {},
   "outputs": [],
   "source": []
  }
 ],
 "metadata": {
  "kernelspec": {
   "display_name": "dl",
   "language": "python",
   "name": "python3"
  },
  "language_info": {
   "codemirror_mode": {
    "name": "ipython",
    "version": 3
   },
   "file_extension": ".py",
   "mimetype": "text/x-python",
   "name": "python",
   "nbconvert_exporter": "python",
   "pygments_lexer": "ipython3",
   "version": "3.11.6"
  },
  "orig_nbformat": 4
 },
 "nbformat": 4,
 "nbformat_minor": 2
}
