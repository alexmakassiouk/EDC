{
 "cells": [
  {
   "cell_type": "markdown",
   "metadata": {},
   "source": [
    "# Self Study 4: Fixed Points and Stability"
   ]
  },
  {
   "cell_type": "markdown",
   "metadata": {},
   "source": [
    "## Section 1: Linear Stability Analysis\n",
    "\n",
    "In this section, you will create a Python function to analyze the fixed points and their stability."
   ]
  },
  {
   "cell_type": "code",
   "execution_count": 5,
   "metadata": {},
   "outputs": [],
   "source": [
    "# Import libraries\n",
    "import numpy as np\n",
    "from scipy.integrate import odeint\n",
    "from scipy.optimize import fsolve\n",
    "import matplotlib.pyplot as plt"
   ]
  },
  {
   "cell_type": "markdown",
   "metadata": {},
   "source": [
    "### Task 1: Function to Find Fixed Points\n",
    "\n",
    "Write a Python function, `find_fixed_points`, that takes an ODE function and initial guesses for fixed points, and returns the calculated fixed points.\n",
    "\n",
    "Use `fsolve` from `scipy.optimize` to find the fixed points based on your initial guesses. Note this will only find one fixed point at a time, so you will need to use multiple \"initial guesses\" to find all the fixed points.\n",
    "\n",
    "In this first part we do it numerically. \n",
    "\n",
    "Later we will use a different method to find all the fixed points at once, with symbolic math (`sympy`).\n"
   ]
  },
  {
   "cell_type": "code",
   "execution_count": 6,
   "metadata": {},
   "outputs": [],
   "source": [
    "def find_fixed_points(ode_func, initial_guesses):\n",
    "    # your code here\n",
    "    fixed_points = fsolve(ode_func, initial_guesses)\n",
    "    return fixed_points"
   ]
  },
  {
   "cell_type": "markdown",
   "metadata": {},
   "source": [
    "### Task 2: Function for Linear Stability Analysis\n",
    "\n",
    "Write another Python function, `linear_stability_analysis`, that takes an ODE function, its fixed points, and returns the stability type (\"Stable\" or \"Unstable\") of each fixed point.\n",
    "\n",
    "**Hint**: Perturb the fixed point by a small value $\\Delta$ and check the sign of the ODE.\n"
   ]
  },
  {
   "cell_type": "code",
   "execution_count": 7,
   "metadata": {},
   "outputs": [],
   "source": [
    "def linear_stability_analysis(ode_func, fixed_points, delta=1e-3):\n",
    "    # your code here\n",
    "    stability = []\n",
    "    for point in fixed_points:\n",
    "        perturbation = ode_func(point+delta)\n",
    "        if perturbation < 0:\n",
    "            stability.append(\"Stable\")\n",
    "        else:\n",
    "            stability.append(\"Unstable\")\n",
    "    return stability"
   ]
  },
  {
   "cell_type": "markdown",
   "metadata": {},
   "source": [
    "### Task 3: Combine Into `stability` Function\n",
    "\n",
    "Combine `find_fixed_points` and `linear_stability_analysis` into a single function named `stability`. This function should take an ODE and initial guesses for fixed points, and print out each fixed point along with its stability type.\n"
   ]
  },
  {
   "cell_type": "code",
   "execution_count": 8,
   "metadata": {},
   "outputs": [],
   "source": [
    "def stability(ode_func, initial_guesses: list[int], delta=1e-3):\n",
    "    # Find fixed points\n",
    "    # your code here\n",
    "    fixed_points = initial_guesses\n",
    "    for i in range(3):\n",
    "        fixed_points = find_fixed_points(ode_func, initial_guesses)\n",
    "    \n",
    "    # Analyze stability\n",
    "    # your code here\n",
    "    stabilities = linear_stability_analysis(ode_func, fixed_points)\n",
    "    \n",
    "    # Print results\n",
    "    # your code here\n",
    "    for i in range(len(stabilities)):\n",
    "        print(str(fixed_points[i]) + \": \" + str(stabilities[i]))\n"
   ]
  },
  {
   "cell_type": "markdown",
   "metadata": {},
   "source": [
    "### Task 4: Explore Various ODEs\n",
    "\n",
    "### Example 1: Logistic Equation\n",
    "\n",
    "Use the `stability` function to analyze the logistic equation:\n",
    "\n",
    "$$\n",
    "\\frac{dN}{dt} = rN \\left(1 - \\frac{N}{K}\\right)\n",
    "$$\n",
    "\n",
    "### Example 2: Exponential Growth\n",
    "\n",
    "Use the `stability` function to analyze the exponential growth equation:\n",
    "\n",
    "$$\n",
    "\\frac{dN}{dt} = rN\n",
    "$$\n",
    "\n",
    "### Example 3: A function of your choice\n"
   ]
  },
  {
   "cell_type": "code",
   "execution_count": 9,
   "metadata": {},
   "outputs": [
    {
     "name": "stdout",
     "output_type": "stream",
     "text": [
      "Logistic Equation Stability Analysis:\n",
      "0.0: Unstable\n",
      "100.0: Stable\n"
     ]
    }
   ],
   "source": [
    "# Example 1: Logistic Equation\n",
    "def logistic_eq(N, t=None):\n",
    "    r = 0.1  # Growth rate\n",
    "    K = 100  # Carrying capacity\n",
    "    return r * N * (1 - N / K)\n",
    "\n",
    "print(\"Logistic Equation Stability Analysis:\")\n",
    "stability(logistic_eq, initial_guesses=[0, 200])\n"
   ]
  },
  {
   "cell_type": "code",
   "execution_count": 10,
   "metadata": {},
   "outputs": [
    {
     "name": "stdout",
     "output_type": "stream",
     "text": [
      "\n",
      "Exponential Growth Stability Analysis:\n",
      "0.0: Unstable\n",
      "0.0: Unstable\n"
     ]
    }
   ],
   "source": [
    "# Example 2: Exponential Growth\n",
    "def exponential_growth(N, t=None):\n",
    "    r = 0.1  # Growth rate\n",
    "    return r * N\n",
    "\n",
    "print(\"\\nExponential Growth Stability Analysis:\")\n",
    "stability(exponential_growth, initial_guesses=[0, 10])"
   ]
  },
  {
   "cell_type": "code",
   "execution_count": 11,
   "metadata": {},
   "outputs": [
    {
     "name": "stdout",
     "output_type": "stream",
     "text": [
      "-1.0001084021921451: Unstable\n",
      "1.3334477579408068: Unstable\n"
     ]
    },
    {
     "name": "stderr",
     "output_type": "stream",
     "text": [
      "/opt/homebrew/lib/python3.11/site-packages/scipy/optimize/_minpack_py.py:177: RuntimeWarning: The iteration is not making good progress, as measured by the \n",
      "  improvement from the last ten iterations.\n",
      "  warnings.warn(msg, RuntimeWarning)\n"
     ]
    }
   ],
   "source": [
    "def third_order_eq(t):\n",
    "    return t**3-2*t**2+3\n",
    "\n",
    "stability(third_order_eq, initial_guesses=[-2, 3])"
   ]
  },
  {
   "cell_type": "markdown",
   "metadata": {},
   "source": [
    "## Section 2: A Labor Market Example\n",
    "\n",
    "\n",
    "\n",
    "#### Background\n",
    "\n",
    "The dynamics of the labor market can be modeled by the following system of equations:\n",
    "\n",
    "The rate of change of wage ($ w $) is dependent on the difference between labor demand ($ l^d $) and labor supply ($ l^s $):\n",
    "\n",
    "$$\n",
    "\\dot{w} = \\beta (l^d - l^s)\n",
    "$$\n",
    "where $ \\beta $ is a positive constant.\n",
    "\n",
    "Labor demand decreases linearly with wage:\n",
    "$$\n",
    "l^d(w) = \\mu - \\gamma w\n",
    "$$\n",
    "where $\\mu$ and $\\gamma$ are positive constants.\n",
    "\n",
    "Labor supply is a function of wage and is influenced by the \"negative income effect\":\n",
    "   * As wages increase, income increases, leading to a greater demand for leisure and a decrease in labor supply after a certain point."
   ]
  },
  {
   "cell_type": "markdown",
   "metadata": {},
   "source": [
    "### Part 1: Setup\n",
    "\n",
    " **Labor Supply and Demand Functions**: Write a Python function `labor_supply(w, alpha, delta)` that models $ l^s(w) $ using a quadratic function.\n",
    "   - The function should initially increase with $ w $ but should decrease after reaching a peak (i.e., a quadatic function `alpha * x - delta * x**2`).\n",
    "   \n",
    "Labour demand decreases linearly with wage: $ l^d(w) = \\mu - \\gamma w $ where $ \\mu $ and $ \\gamma $ are positive constants."
   ]
  },
  {
   "cell_type": "code",
   "execution_count": 12,
   "metadata": {},
   "outputs": [],
   "source": [
    "def labor_supply(w, alpha, delta):\n",
    "    # Your code here\n",
    "    l_s = -delta*w**2 + alpha*w\n",
    "    return l_s\n",
    "\n",
    "def labor_demand(w, mu, gamma):\n",
    "    # Your code here\n",
    "    l_d = mu-gamma*w\n",
    "    return l_d"
   ]
  },
  {
   "cell_type": "markdown",
   "metadata": {},
   "source": [
    "**Wage Dynamics**: Write a Python function `wage_dynamics(w, beta, mu, gamma, alpha, delta)` that returns $ \\dot{w} $ based on the given $ w $ and parameters."
   ]
  },
  {
   "cell_type": "code",
   "execution_count": 13,
   "metadata": {},
   "outputs": [],
   "source": [
    "def wage_dynamics(w, beta, mu, gamma, alpha, delta):\n",
    "    ld = labor_demand(w, mu, gamma)\n",
    "    ls = labor_supply(w, alpha, delta)\n",
    "    return beta*(ld-ls)\n"
   ]
  },
  {
   "cell_type": "code",
   "execution_count": 14,
   "metadata": {},
   "outputs": [],
   "source": [
    "# Define parameters for the example\n",
    "beta = 1\n",
    "mu = 10\n",
    "gamma = 1\n",
    "alpha = 2\n",
    "delta = 0.1"
   ]
  },
  {
   "cell_type": "markdown",
   "metadata": {},
   "source": [
    "**Visualization**: Plot $ \\dot{w} $ as a function of $ w $ for different sets of parameters $ \\beta, \\mu, \\gamma, \\alpha, \\delta $. **Hint**: use `ipywidgets` interact"
   ]
  },
  {
   "cell_type": "code",
   "execution_count": 15,
   "metadata": {},
   "outputs": [
    {
     "data": {
      "application/vnd.jupyter.widget-view+json": {
       "model_id": "393859093167491489b8ec1d1aa3f6f0",
       "version_major": 2,
       "version_minor": 0
      },
      "text/plain": [
       "interactive(children=(FloatSlider(value=1.0, description='beta', max=5.0), FloatSlider(value=10.0, description…"
      ]
     },
     "metadata": {},
     "output_type": "display_data"
    }
   ],
   "source": [
    "from ipywidgets import interact\n",
    "\n",
    "@interact(beta = (0,5,0.1), mu=(2,20,0.1), gamma=(0,10,0.1), alpha=(0,5,0.1), delta=(0,3,0.1), w0=(0,10,0.1))\n",
    "def plot_wage_dynamics(beta=1, mu=10, gamma=1, alpha=2, delta=0.1, w0=2):\n",
    "    # Your code here\n",
    "    w = np.linspace(0,50,500)\n",
    "    dynamics = wage_dynamics(w, beta, mu, gamma, alpha, delta)\n",
    "    plt.figure(figsize=(12,6))\n",
    "    plt.plot(w, dynamics)\n",
    "    plt.plot(w,[0]*500)\n",
    "    plt.grid(True)\n",
    "    # sol = odeint(wage_dynamics,w0 t, args=(beta, mu, gamma, alpha, delta))"
   ]
  },
  {
   "cell_type": "markdown",
   "metadata": {},
   "source": [
    "From the graph, we can see that:\n",
    "\n",
    "- When $ \\dot{w} > 0 $, the wage $ w $ is increasing over time.\n",
    "- When $ \\dot{w} < 0 $, the wage $ w $ is decreasing over time."
   ]
  },
  {
   "cell_type": "markdown",
   "metadata": {},
   "source": [
    "### Section 3: Fixed Points and Stability (Labour Market)\n",
    "\n",
    "Solve the system of equations to find the fixed points, either analytically or using `sympy` (see [sympy documentation](https://docs.sympy.org/latest/modules/solvers/solvers.html#system-of-nonlinear-equations)).\n",
    "\n",
    "\n",
    "$$\n",
    "\\dot{w} = \\beta (l^d - l^s) = \\beta (\\mu - \\gamma w - (\\alpha w - \\delta w^2))\n",
    "$$"
   ]
  },
  {
   "cell_type": "markdown",
   "metadata": {},
   "source": [
    "To find the equilibrium points, we need to solve $ \\dot{w} = 0 $. To do so, this time we will use `sympy` to solve the system of equations. Read the [sympy documentation](https://docs.sympy.org/latest/modules/solvers/solvers.html#system-of-nonlinear-equations) to learn how to use `sympy` to solve a system of nonlinear equations."
   ]
  },
  {
   "cell_type": "code",
   "execution_count": 17,
   "metadata": {},
   "outputs": [
    {
     "data": {
      "text/latex": [
       "$\\displaystyle \\frac{\\alpha + \\gamma - \\sqrt{\\alpha^{2} + 2 \\alpha \\gamma - 4 \\delta \\mu + \\gamma^{2}}}{2 \\delta}$"
      ],
      "text/plain": [
       "(alpha + gamma - sqrt(alpha**2 + 2*alpha*gamma - 4*delta*mu + gamma**2))/(2*delta)"
      ]
     },
     "execution_count": 17,
     "metadata": {},
     "output_type": "execute_result"
    }
   ],
   "source": [
    "from sympy import symbols, solve\n",
    "\n",
    "# Define variables and parameters\n",
    "beta, l_d, l_s = symbols('beta l^d l^s')\n",
    "mu, gamma, w, alpha, delta = symbols('mu gamma w alpha delta')\n",
    "l_d = mu - gamma*w\n",
    "l_s = alpha*w - delta*w**2\n",
    "\n",
    "# Define the equation for equilibrium\n",
    "w_d = beta*(l_d-l_s)\n",
    "\n",
    "# Solve for equilibrium wage\n",
    "sols = solve(w_d, w)\n",
    "sols[0]"
   ]
  },
  {
   "cell_type": "markdown",
   "metadata": {},
   "source": [
    "Use starting cod below to find the fixed points of the system of equations and plot the wage dynamics for different sets of parameters."
   ]
  },
  {
   "cell_type": "code",
   "execution_count": 35,
   "metadata": {},
   "outputs": [
    {
     "data": {
      "image/png": "[encoded data removed]",
      "text/plain": [
       "<Figure size 1000x600 with 1 Axes>"
      ]
     },
     "metadata": {},
     "output_type": "display_data"
    }
   ],
   "source": [
    "# Define a range of mu values for the bifurcation analysis\n",
    "mu_values = np.linspace(0, 30, 40)\n",
    "\n",
    "# Initialize lists to store equilibrium wages\n",
    "equilibrium_wages_mu_1 = []\n",
    "equilibrium_wages_mu_2 = []\n",
    "\n",
    "# Loop through each mu value and solve for equilibrium wages\n",
    "for mu_value in mu_values:\n",
    "    equilibrium_wage = [sol.subs({alpha:1, delta: 0.1, gamma: 1, mu: mu_value}) for sol in sols]  # sympy solve here for specific mu value\n",
    "\n",
    "    try:\n",
    "        # Append existing equilibria; use None if equilibrium does not exist\n",
    "        equilibrium_wages_mu_1.append(float(equilibrium_wage[0]) if len(equilibrium_wage) > 0 else None)\n",
    "        equilibrium_wages_mu_2.append(float(equilibrium_wage[1]) if len(equilibrium_wage) > 1 else None)\n",
    "    except TypeError:\n",
    "        equilibrium_wages_mu_1.append(None)\n",
    "        equilibrium_wages_mu_2.append(None)\n",
    "\n",
    "# Plotting\n",
    "plt.figure(figsize=(10, 6))\n",
    "plt.plot(mu_values, equilibrium_wages_mu_1, label='Equilibrium Wage 1', marker='o', markersize=5, linestyle='-', color='blue')\n",
    "plt.plot(mu_values, equilibrium_wages_mu_2, label='Equilibrium Wage 2', marker='x', markersize=5, linestyle='--', color='red')\n",
    "plt.xlabel('Mu (mu)')\n",
    "plt.ylabel('Equilibrium Wage (w*)')\n",
    "plt.title('Bifurcation Diagram with respect to Mu')\n",
    "plt.legend()\n",
    "plt.grid(True)\n",
    "plt.show()\n"
   ]
  },
  {
   "cell_type": "code",
   "execution_count": null,
   "metadata": {},
   "outputs": [],
   "source": []
  }
 ],
 "metadata": {
  "kernelspec": {
   "display_name": "dl",
   "language": "python",
   "name": "python3"
  },
  "language_info": {
   "codemirror_mode": {
    "name": "ipython",
    "version": 3
   },
   "file_extension": ".py",
   "mimetype": "text/x-python",
   "name": "python",
   "nbconvert_exporter": "python",
   "pygments_lexer": "ipython3",
   "version": "3.11.6"
  },
  "orig_nbformat": 4
 },
 "nbformat": 4,
 "nbformat_minor": 2
}
