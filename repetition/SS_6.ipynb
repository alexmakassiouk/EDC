{
 "cells": [
  {
   "cell_type": "markdown",
   "metadata": {},
   "source": [
    "#  Self-Study 6: Coupled Dynamics and Stability 2\n",
    "\n",
    "In this self-study, we build upon the concepts explored in Self-Study 5. \n",
    "First you will apply the same concept studied in Self-Study 5 to a slightly different system.\\\n",
    "Feel free to use the code from the previous self-study as a starting point.\n",
    "The important thing is that you understand what the code is doing and remember the concepts for the exam.\n",
    "\n",
    "What is new in this exercise is that you will be asked to extend an existing model, shortly describe what you did, and interpret the results.\\\n",
    "I may ask you to present your model in class (3 min max), so be prepared to explain your extension.\\\n",
    "**Hint** Make use of interactive plots to make it easy to understand your findings.\n"
   ]
  },
  {
   "cell_type": "markdown",
   "metadata": {},
   "source": [
    "## Section 1: Fixed Points and Phase Portrait with Cubic Terms\n",
    "\n",
    "In this section, we will consider a more complex system of ODEs with **two coupled** variables, $x$ and $y$, and a cubic term:\n",
    "\n",
    "\n",
    "$$\n",
    "\\frac{dx}{dt} = \\alpha x - \\beta x^2 - \\gamma xy\n",
    "$$\n",
    "$$\n",
    "\\frac{dy}{dt} = \\delta y - \\epsilon y^3 - xy\n",
    "$$"
   ]
  },
  {
   "cell_type": "markdown",
   "metadata": {},
   "source": [
    "### Task 1: Find the Fixed Points Analytically (with `sympy`)"
   ]
  },
  {
   "cell_type": "code",
   "execution_count": null,
   "metadata": {},
   "outputs": [],
   "source": [
    "from sympy import # your import here\n",
    "\n",
    "# Declare variables\n",
    "\n",
    "# Define the equations for dx/dt and dy/dt with a cubic term in dy/dt\n",
    "\n",
    "# Solve for fixed points (This may take a while, around 30 seconds)\n"
   ]
  },
  {
   "cell_type": "markdown",
   "metadata": {},
   "source": [
    "### Task 2: Plot the phase portrait\n",
    "\n",
    "The phase portrait is a plot of the trajectories of the system in the $x-y$ plane. It is useful to visualise the dynamics of the system.\n"
   ]
  },
  {
   "cell_type": "code",
   "execution_count": null,
   "metadata": {},
   "outputs": [],
   "source": [
    "import matplotlib.pyplot as plt\n",
    "import numpy as np\n",
    "\n",
    "# Step 1: Find numerical values for the fixed points for the symbolic solutions you found earlier.\n",
    "# Set values for the parameters and use the `.subs()` method to substitute them into the symbolic solutions.\n",
    "\n",
    "alpha_val = 3\n",
    "beta_val = 1\n",
    "gamma_val = 3\n",
    "delta_val = 5\n",
    "epsilon_val = 1/2\n",
    "\n",
    "substitution_dict = {alpha: alpha_val, beta: beta_val, gamma: gamma_val, delta: delta_val, epsilon: epsilon_val}\n",
    "\n",
    "fixed_points_val = []\n",
    "for p1, p2 in fixed_points:\n",
    "    # your code here\n",
    "\n",
    "\n",
    "# Step 2: Generate streamplot of the vector field defined by the equations above. **Hint:** Look at the matplotlib documentation for the `streamplot` function.\n",
    "X, Y = np.meshgrid(np.linspace(0, 3.5, 40), np.linspace(0, 3.5, 40))\n",
    "U = # your code here\n",
    "V = # your code here\n",
    "\n",
    "# plotting code here, look at streamplot documentation or try `plt.streamplot?`\n",
    "\n",
    "# Step 3: Overlay fixed points onto the streamplot, NOTE: only points that are positive\n",
    "\n"
   ]
  },
  {
   "cell_type": "markdown",
   "metadata": {},
   "source": [
    "\n",
    "### Task 3: Stability of Fixed Points\n",
    "\n",
    "In this section, we will examine the stability of the fixed points for our system."
   ]
  },
  {
   "cell_type": "markdown",
   "metadata": {},
   "source": [
    "\n",
    "First, let's define the Jacobian matrix of the system. The Jacobian matrix $J$ is given by:\n",
    "\n",
    "$$\n",
    "J = \\begin{pmatrix}\n",
    "\\frac{\\partial f}{\\partial x} & \\frac{\\partial f}{\\partial y} \\\\\n",
    "\\frac{\\partial g}{\\partial x} & \\frac{\\partial g}{\\partial y}\n",
    "\\end{pmatrix}\n",
    "$$\n",
    "\n",
    "You can use `sympy` to find these partial derivatives and construct the Jacobian matrix."
   ]
  },
  {
   "cell_type": "code",
   "execution_count": null,
   "metadata": {},
   "outputs": [],
   "source": [
    "from sympy import diff, Matrix\n",
    "\n",
    "# Define the differential equations or use the ones you defined earlier\n",
    "\n",
    "# Define the Jacobian matrix\n",
    "J = "
   ]
  },
  {
   "cell_type": "markdown",
   "metadata": {},
   "source": [
    "### Task 4: Explore the stability of the Fixed Point\n",
    "\n",
    "After obtaining the Jacobian matrix describing the stability of the fixed point.\n",
    "\n",
    "**Only consider the fixed points that are positive.**"
   ]
  },
  {
   "cell_type": "code",
   "execution_count": null,
   "metadata": {},
   "outputs": [],
   "source": [
    "# your code here"
   ]
  },
  {
   "cell_type": "markdown",
   "metadata": {},
   "source": [
    "## Section 2: Your Own Model\n",
    "\n",
    "To review the content covered in SS5 we will we will again consider a simple model system of ODEs and explore its stability.\n",
    "This time, however, you will propose your own model and explore it.\n",
    "\n",
    "I may ask you to present your short report (Section 3) in class, make a few interactive plots and think about an intuitive explanation for the dynamics.\n",
    "\n",
    "\n",
    "##### Original Model\n",
    "1. **Resource (r)**: Represents a natural resource that grow at a constant rate $a$, e.g., grain.\n",
    "2. **Producers (y)**: Companies consume the resource to produce output $y$, at an operational cost of $c$, e.g., labor costs.\n",
    "3. **Production**: The resource is consumed at a rate $k$ — proportional to both current production $y$ and available resources $r$.\n",
    "\n",
    "\n",
    "The model is described by the following differential equations:\n",
    "$$\n",
    "\\frac{dr}{dt} = a r - k y r\n",
    "$$\n",
    "$$\n",
    "\\frac{dy}{dt} = k y r -c y\n",
    "$$\n",
    "\n",
    "### Task 1: Propose an Extension to the Model\n",
    "Think about additional factors that could be relevant be added.\n",
    "Change the equations above, or come up with your own completely new model, and explain your reasoning."
   ]
  },
  {
   "cell_type": "code",
   "execution_count": null,
   "metadata": {},
   "outputs": [],
   "source": []
  },
  {
   "cell_type": "markdown",
   "metadata": {},
   "source": [
    "## Section 3: Write up your findings\n",
    "\n",
    "- A short report of max 300 words (you can do more, but the point is to be concise).\n",
    "- Make use of interactive plots to illustrate your findings.\n",
    "- What are the implications of your findings?\n",
    "\n",
    "**NOTE:** I will ask a some students to present this section in class. You can volunteer if you want. :)"
   ]
  },
  {
   "cell_type": "markdown",
   "metadata": {},
   "source": []
  }
 ],
 "metadata": {
  "kernelspec": {
   "display_name": "edc",
   "language": "python",
   "name": "python3"
  },
  "language_info": {
   "codemirror_mode": {
    "name": "ipython",
    "version": 3
   },
   "file_extension": ".py",
   "mimetype": "text/x-python",
   "name": "python",
   "nbconvert_exporter": "python",
   "pygments_lexer": "ipython3",
   "version": "3.11.5"
  }
 },
 "nbformat": 4,
 "nbformat_minor": 2
}
