{
 "cells": [
  {
   "cell_type": "markdown",
   "metadata": {},
   "source": [
    "# Self Study 7: Solow and the Steady State"
   ]
  },
  {
   "cell_type": "markdown",
   "metadata": {},
   "source": [
    "## Section 1: The Solow Model\n",
    "\n",
    "$$\n",
    "Y = A \\cdot K^\\alpha \\cdot L^{1-\\alpha} \n",
    "$$\n",
    "\n",
    "$$\n",
    "\\frac{dK}{dt} = s \\cdot Y - \\delta \\cdot K\n",
    "$$\n",
    "\n",
    "$$\n",
    "\\frac{dL}{dt} = n \\cdot L\n",
    "$$\n",
    "\n",
    "### Task 1: Explain the meaning of each variable in the equations above.\n",
    "\n",
    "Note that the variable names may be different from the slides\n",
    "\n",
    "- $ K $ \n",
    "- $ L $ \n",
    "- $ Y $ \n",
    "- $ s $\n",
    "- $ \\delta $ \n",
    "- $ n $ "
   ]
  },
  {
   "cell_type": "markdown",
   "metadata": {},
   "source": [
    "### Task 2: Write down the intensive form of the model.\n",
    "\n",
    "The above equations are in extensive form, which means they are in terms of *total* output, total capital, total labour. To simplify the analysis and reasoning about the implications of the model, we can convert the equations to intensive form, which means they are in terms of output *per capita*, capital per worker, and labour per worker.\n",
    "\n",
    "It is common to use lower case letters to denote intensive variables, and upper case letters to denote extensive variables. For example, $k$ is capital per worker, and $K$ is total capital.\n",
    "\n",
    "Write down the intensive form of the model:\n",
    "\n",
    "$$\n",
    "y = \n",
    "$$\n",
    "\n",
    "$$\n",
    "\\frac{dk}{dt} = \n",
    "$$\n",
    "\n",
    "$$\n",
    "\\frac{dl}{dt} =\n",
    "$$"
   ]
  },
  {
   "cell_type": "markdown",
   "metadata": {},
   "source": [
    "### Task 3: Plot both the extensive and intensive form of the model.\n",
    "\n",
    "Plot Capital and Output per worker over time for the extensive and intensive form of the model.\n",
    "\n"
   ]
  },
  {
   "cell_type": "markdown",
   "metadata": {},
   "source": [
    "## Section 2: The Steady State and Golden Rule\n",
    "\n",
    "\n",
    "### Task 1: Find steady state capital and consumption per worker.\n",
    "\n",
    "The steady state is the long-run equilibrium, where capital per worker and output per worker are constant. In other words, the steady state is the point where the change in capital per worker and output per worker are zero. Find the steady state level of capital $k^*$."
   ]
  },
  {
   "cell_type": "code",
   "execution_count": null,
   "metadata": {},
   "outputs": [],
   "source": [
    "from sympy import symbols, Eq, solve\n",
    "# Define all the symbols\n",
    "\n",
    "A, k, alpha, s, y, delta, n = symbols('A k alpha s y delta n')\n",
    "\n",
    "eq = # Write the equation here\n",
    "k_star = solve(eq, k)[0]  # save the solution to k_star for later use\n",
    "k_star"
   ]
  },
  {
   "cell_type": "markdown",
   "metadata": {},
   "source": [
    "Wit the steady state level of capital, we can find the steady state level of output per worker, and hance consumption per worker.\n",
    "\n",
    "What is the consumption per worker in the steady state?\n",
    "Recall that $y = A \\cdot k^\\alpha$ and $c = (1-s) \\cdot y$.\n"
   ]
  },
  {
   "cell_type": "markdown",
   "metadata": {},
   "source": [
    "### Task 2: The Golden Rule level of savings.\n",
    "\n",
    "**Question:** How is the Golden Rule savings level defined?\\\n",
    "**Answer:**\n",
    "\n",
    "\n",
    "**Question:** If it the real savings rate is higher than the Golden Rule level, what happens to consumption per worker?\\\n",
    "**Answer:**\n",
    "\n",
    "\n",
    "Derive $s_\\text{gold}$.\n",
    "\n",
    "Steps:\n",
    "1. Write down the equation for consumption per worker, $c$ at the steady state $k = k^*$.\n",
    "2. Take the derivative of $c$ with respect to $s$.\n",
    "3. Set the derivative equal to zero and solve for $s$.\n"
   ]
  },
  {
   "cell_type": "code",
   "execution_count": null,
   "metadata": {},
   "outputs": [],
   "source": [
    "from sympy import diff\n",
    "\n",
    "c_star = # hint use k_star saved above\n",
    "dcds = # your code here\n",
    "\n",
    "# solve"
   ]
  },
  {
   "cell_type": "markdown",
   "metadata": {},
   "source": [
    "## Section 3: Adding Human Capital\n",
    "\n",
    "Human capital refers to the skills, knowledge, experience, and abilities possessed by workers. In the context of economic growth, human capital is essential because it enhances the productivity of labor.\\\n",
    "Traditional physical capital $K$ like machinery and buildings is not the sole driver of economic output; the skill level and efficiency of the workforce are equally important.\n",
    "\n",
    "\n",
    "A production function incorporating human capital is:\n",
    "\n",
    "$$\n",
    "Y = A \\cdot K^\\alpha \\cdot H^\\beta \\cdot L^{1-\\alpha-\\beta}\n",
    "$$\n",
    "\n",
    "The equations for capital and labor accumulation are:\n",
    "$$\n",
    "\\frac{dK}{dt} = s_k \\cdot Y - \\delta_k \\cdot K\n",
    "$$\n",
    "$$\n",
    "\\frac{dH}{dt} = s_h \\cdot Y - \\delta_h \\cdot H\n",
    "$$\n",
    "$$\n",
    "\\frac{dL}{dt} = n \\cdot L\n",
    "$$"
   ]
  },
  {
   "cell_type": "markdown",
   "metadata": {},
   "source": [
    "### Task 1: Explain the meaning of each variable\n",
    "\n",
    "\n"
   ]
  },
  {
   "cell_type": "markdown",
   "metadata": {},
   "source": [
    "\n",
    "### Task 2: Write down the intensive form of the model.\n",
    "\n"
   ]
  }
 ],
 "metadata": {
  "kernelspec": {
   "display_name": "edc",
   "language": "python",
   "name": "python3"
  },
  "language_info": {
   "codemirror_mode": {
    "name": "ipython",
    "version": 3
   },
   "file_extension": ".py",
   "mimetype": "text/x-python",
   "name": "python",
   "nbconvert_exporter": "python",
   "pygments_lexer": "ipython3",
   "version": "3.11.5"
  }
 },
 "nbformat": 4,
 "nbformat_minor": 2
}
