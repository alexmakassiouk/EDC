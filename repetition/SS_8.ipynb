{
 "cells": [
  {
   "cell_type": "markdown",
   "metadata": {},
   "source": [
    "# Self Study 8: The Kaldor Model"
   ]
  },
  {
   "cell_type": "markdown",
   "metadata": {},
   "source": [
    "Let's explore the Kaldor model we discussed last week in the lecture. This time, we will use different functional forms for Savings and Investment than the ones you saw in class.\n",
    "\n",
    "The objective of using these functions is to learn how to explore a nonlinear model using the tools we have already encountered, in order to make sense of a model where analytical solutions may not exist.\n",
    "\n",
    "Note: The the takeaway from this exercise is not to memorize specific functions, but to understand the methodology for exploring the model:\n",
    "1. Plot the functions to understand their behavior \n",
    "2. Find fixed points visually\n",
    "3. Look at the Phase Diagram to understand the dynamics of the system\n",
    "4. What if we assume a simpler functional form? How does the model change? Do the conclusions change?\n",
    "\n",
    "\n",
    "## The Model\n",
    "\n",
    "Our economy is described by two variables:\n",
    "\n",
    "1. **Output ($ Y $)**: The total value of all goods and services produced.\n",
    "2. **Capital Stock ($ K $)**: The total capital.\n",
    "\n",
    "Their dyanamics is governed by the following ODEs:\n",
    "\n",
    "$$\n",
    "\\frac{dY}{dt} = \\alpha \\left( I(Y, K) - S(Y, K) \\right)\n",
    "$$\n",
    "$$\n",
    "\\frac{dK}{dt} = I(Y, K) - \\delta K\n",
    "$$\n",
    "\n",
    "where:\n",
    "- $ \\alpha $ is the speed at which Y changes in response to discrepancies in investment and savings.\n",
    "- $ \\delta $ is capital depreciation rate.\n",
    "\n",
    "\n",
    "### Investment\n",
    "For our exercise, the investment function $ I(Y, K) $ is given by logistic function of $Y$ and a linear function of $K$:\n",
    "\n",
    "$$\n",
    "I(Y, K) = 3 + \\frac{1}{1+\\exp(-2.5\\cdot(Y-4))} - \\frac{K}{2}\n",
    "$$\n",
    "\n",
    "This equations satisfies the necessary properties of the investment function:\n",
    "\n",
    "- $I$ increases in $ Y $ -> $\\partial I/\\partial Y > 0$\n",
    "- $I$ decreases in $ K $ -> $\\partial I/\\partial K < 0$\n",
    "\n",
    "### Savings\n",
    "The savings function $ S(Y, K) $ must be positive and increasing in $ Y $. For our exercise, we assume that it only depends on $Y$ and not on $K$, and we will use the following function:\n",
    "\n",
    "$$\n",
    "S(Y, K) = sY\n",
    "$$\n",
    "\n",
    "where $ s $ is the marginal propensity to save, indicating the fraction of output that is saved."
   ]
  },
  {
   "cell_type": "markdown",
   "metadata": {},
   "source": [
    "## Section 1: Basic Dynamics"
   ]
  },
  {
   "cell_type": "markdown",
   "metadata": {},
   "source": [
    "### Task 1: Define functions\n",
    "\n",
    "- $S$\n",
    "- $I$\n",
    "- $\\frac{dY}{dt}$\n",
    "- $\\frac{dK}{dt}$"
   ]
  },
  {
   "cell_type": "code",
   "execution_count": null,
   "metadata": {},
   "outputs": [],
   "source": [
    "import numpy as np\n",
    "\n",
    "def investment(Y, K):\n",
    "    # your code here\n",
    "    pass\n",
    "\n",
    "def savings(Y, s):\n",
    "    # your code here\n",
    "    pass\n",
    "\n",
    "\n",
    "def dYdt(I, S, alpha):\n",
    "    # your code here\n",
    "    pass\n",
    "\n",
    "def dKdt(K, I, delta):\n",
    "    # your code here\n",
    "    pass"
   ]
  },
  {
   "cell_type": "markdown",
   "metadata": {},
   "source": [
    "### Task 2: S/I curves\n",
    "\n",
    "- Plot the savings and investment curves for $Y$ for different values of $K$.\n",
    "- Also, explore parameters for $s$ to see how they affect the number of equilibria. \n",
    "\n",
    "Use `ipywidgets` to create interactive plots."
   ]
  },
  {
   "cell_type": "code",
   "execution_count": null,
   "metadata": {},
   "outputs": [],
   "source": [
    "import matplotlib.pyplot as plt\n",
    "from ipywidgets import interact\n",
    "\n",
    "@interact(s=(0.1, 1, 0.1), kk=(0.1, 10, 0.1))\n",
    "def plot_si(s, kk=1.):\n",
    "    # your code here\n",
    "    pass"
   ]
  },
  {
   "cell_type": "markdown",
   "metadata": {},
   "source": [
    "- **Questions:** When chaning $K$ and $s$ what do you observe? What is the economic interpretation?\n",
    "- **Answer:** "
   ]
  },
  {
   "cell_type": "markdown",
   "metadata": {},
   "source": [
    "### Task 3: Dynamics of Y\n",
    "\n",
    "Plot:\n",
    "- $\\dot{Y}$ vs $Y$ for different values of $K$ and $s$.\n",
    "- $\\dot{K}$ vs $K$ for different values of $Y$, $s$, and $\\delta$.\n",
    "\n",
    "This plot will help you understand the dynamics of the system without having to solve the ODEs.\n",
    "\n",
    "Note: $\\dot{Y}$ is just another way of writing $\\frac{dY}{dt}$."
   ]
  },
  {
   "cell_type": "code",
   "execution_count": null,
   "metadata": {},
   "outputs": [],
   "source": [
    "import matplotlib.pyplot as plt\n",
    "from ipywidgets import interact\n",
    "\n",
    "@interact(s=(0.1, 1, 0.01), kk=(0.1, 6, 0.1), alpha=(0.01, 1.0, 0.01), delta=(0.01, 1, .01))\n",
    "def plot_change_y(s, kk, alpha, delta):\n",
    "    # your code here\n",
    "    pass"
   ]
  },
  {
   "cell_type": "markdown",
   "metadata": {},
   "source": [
    "- **Question:** What are the points at which $\\dot{Y} = 0$ and $\\dot{K} = 0$? What is the dynamics of $Y$ around these points?\n",
    "- **Answer:**\n",
    "\n",
    "- **Question:** What happens to the fixed points when $\\alpha$ changes? What does it mean for the dynamics of the system?\n",
    "- **Answer:**"
   ]
  },
  {
   "cell_type": "markdown",
   "metadata": {},
   "source": [
    "## Section 2: Phase Diagram"
   ]
  },
  {
   "cell_type": "markdown",
   "metadata": {},
   "source": [
    "Plot the phase diagram for the system."
   ]
  },
  {
   "cell_type": "code",
   "execution_count": null,
   "metadata": {},
   "outputs": [],
   "source": [
    "def kaldor_system(YK, t, s, alpha, delta):\n",
    "    # your code here\n",
    "    return dydt, dkdt"
   ]
  },
  {
   "cell_type": "code",
   "execution_count": null,
   "metadata": {},
   "outputs": [],
   "source": [
    "from scipy.integrate import odeint\n",
    "from ipywidgets import fixed\n",
    "\n",
    "def solve_and_plot(alpha, delta, s):\n",
    "    t = np.linspace(0, 200, 400)\n",
    "    u0 = [5, 4.4]\n",
    "    sol = odeint(kaldor_system, u0, t, args=(s, alpha, delta))\n",
    "    fig, ax = plt.subplots(1, 2, figsize=(16, 8))\n",
    "    ax[0].plot(t, sol[:, 0], label='Output')\n",
    "    ax[0].plot(t, sol[:, 1], label='Capital')\n",
    "    ax[0].set_xlabel('Time')\n",
    "    ax[0].set_ylabel('Output / Capital')\n",
    "    \n",
    "    ax[1].plot(sol[:, 0], sol[:, 1], label='Output', color='red')\n",
    "    ax[1].set_xlabel('Output')\n",
    "    ax[1].set_ylabel('Capital')\n",
    "    \n",
    "    # plot origin\n",
    "    ax[1].plot(*u0, 'ko')\n",
    "    \n",
    "    # streamplot\n",
    "    Y, K = np.meshgrid(np.linspace(0, 6, 30), np.linspace(0, 6, 30))\n",
    "    dYdt, dKdt = kaldor_system((Y, K), t=None, s=s, alpha=alpha, delta=delta)\n",
    "    ax[1].streamplot(Y, K, dYdt, dKdt, color='gray', density=1.1)\n",
    "    ax[1].set_xlabel('Output')\n",
    "    ax[1].set_ylabel('Capital')\n",
    "    "
   ]
  },
  {
   "cell_type": "code",
   "execution_count": null,
   "metadata": {},
   "outputs": [],
   "source": [
    "# Use these parameters to start, watch at what happens at delta=0.2\n",
    "interact(solve_and_plot, alpha=fixed(2.2), delta=(0.01, 0.3, 0.01), s=fixed(0.25));\n"
   ]
  },
  {
   "cell_type": "markdown",
   "metadata": {},
   "source": [
    "## Section 3: What if $I$ is linear also in $Y$?\n",
    "\n",
    "Rerun the above code but with the following investment function:\n",
    "$$\n",
    "I(Y, K) = 3 + \\frac{Y}{3} - \\frac{K}{2}\n",
    "$$\n",
    "\n",
    "- **Question:** What are the point(s) at which $\\dot{Y} = 0$ and $\\dot{K} = 0$? What is the dynamics of $Y$ around these points?\n",
    "- **Answer:**\n",
    "\n",
    "- **Question:** If we find that $Y$ has multiple solutions in one case but not the other, what economic meaning does this have?\n",
    "- **Answer:**"
   ]
  },
  {
   "cell_type": "code",
   "execution_count": null,
   "metadata": {},
   "outputs": [],
   "source": []
  }
 ],
 "metadata": {
  "kernelspec": {
   "display_name": "edc",
   "language": "python",
   "name": "python3"
  },
  "language_info": {
   "codemirror_mode": {
    "name": "ipython",
    "version": 3
   },
   "file_extension": ".py",
   "mimetype": "text/x-python",
   "name": "python",
   "nbconvert_exporter": "python",
   "pygments_lexer": "ipython3",
   "version": "3.11.5"
  }
 },
 "nbformat": 4,
 "nbformat_minor": 2
}
