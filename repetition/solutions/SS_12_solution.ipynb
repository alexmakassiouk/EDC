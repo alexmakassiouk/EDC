{
 "cells": [
  {
   "cell_type": "markdown",
   "metadata": {},
   "source": [
    "# Self Study 12: The Hicks Model\n"
   ]
  },
  {
   "cell_type": "markdown",
   "metadata": {},
   "source": [
    "## Section 1: Hicks Model with autonomous investment\n",
    "\n",
    "The model is given by the following equations:\n",
    "\n",
    "$$\n",
    "\\begin{align}\n",
    "C_t &= c_0 + c Y_t \\\\\n",
    "I_t &= I_0 (1+g)^t + b * (Y_t - Y_{t-1}) \\\\\n",
    "Y_t &= C_t + I_t \\\\\n",
    "\\end{align}\n",
    "$$\n",
    "\n",
    "where $c_0, c, I_0, g, b$ are positive constants.\n",
    "\n",
    "Note, that unlike in the previous self study, in the Hicks model investment has both an autonomous and an induced component. The autonomous component is given by $I_0 (1+g)^t$ and the induced component is given by $b * (Y_t - Y_{t-1})$.\n",
    "\n",
    "### Task 1: Find the update rule for $Y_t$, either with `sympy` or by hand."
   ]
  },
  {
   "cell_type": "code",
   "execution_count": 1,
   "metadata": {},
   "outputs": [
    {
     "data": {
      "text/latex": [
       "$\\displaystyle I_{0} \\left(g + 1\\right)^{t} + b \\left(- Y{\\left(t - 2 \\right)} + Y{\\left(t - 1 \\right)}\\right) + c Y{\\left(t - 1 \\right)} + c_{0}$"
      ],
      "text/plain": [
       "I_0*(g + 1)**t + b*(-Y(t - 2) + Y(t - 1)) + c*Y(t - 1) + c_0"
      ]
     },
     "execution_count": 1,
     "metadata": {},
     "output_type": "execute_result"
    }
   ],
   "source": [
    "import sympy as sp\n",
    "\n",
    "Y = sp.Function('Y')\n",
    "t, b, c, d, g, I_0, c_0 = sp.symbols('t b c d g I_0 c_0')\n",
    "\n",
    "consumption = c_0 + c * Y(t-1)\n",
    "investment = I_0 * (1+g)**t + b * (Y(t-1) - Y(t-2))\n",
    "output = consumption + investment\n",
    "output"
   ]
  },
  {
   "cell_type": "markdown",
   "metadata": {},
   "source": [
    "## Task 2: Find the equilibrium output $Y^*$"
   ]
  },
  {
   "cell_type": "code",
   "execution_count": 2,
   "metadata": {},
   "outputs": [
    {
     "data": {
      "text/latex": [
       "$\\displaystyle Y^{*} = I_{0} \\left(g + 1\\right)^{t} + Y^{*} c + c_{0}$"
      ],
      "text/plain": [
       "Eq(Y^*, I_0*(g + 1)**t + Y^**c + c_0)"
      ]
     },
     "execution_count": 2,
     "metadata": {},
     "output_type": "execute_result"
    }
   ],
   "source": [
    "# set all Y(t) to Y^*\n",
    "Y_star = sp.symbols('Y^*')\n",
    "equilibrium_eq = sp.Eq(Y_star, output.subs({Y(t-i): Y_star for i in range(0, 3)}))\n",
    "equilibrium_eq"
   ]
  },
  {
   "cell_type": "code",
   "execution_count": 3,
   "metadata": {},
   "outputs": [
    {
     "data": {
      "text/latex": [
       "$\\displaystyle \\frac{- I_{0} \\left(g + 1\\right)^{t} - c_{0}}{c - 1}$"
      ],
      "text/plain": [
       "(-I_0*(g + 1)**t - c_0)/(c - 1)"
      ]
     },
     "execution_count": 3,
     "metadata": {},
     "output_type": "execute_result"
    }
   ],
   "source": [
    "sp.solve(equilibrium_eq, Y_star)[0]"
   ]
  },
  {
   "cell_type": "markdown",
   "metadata": {},
   "source": [
    "**Question:** What is unique about this equilibrium solution?\n",
    "\n",
    "**Answer:** The equilibrium solution is not unique. The equilibrium solution changes with time, $t$."
   ]
  },
  {
   "cell_type": "markdown",
   "metadata": {},
   "source": [
    "## Section 2: Describe the behavior of the system\n",
    "\n",
    "Using the characteristics equation approach we have discussed in class and in the last self study (SS11) write the equation for $Y_t$ you found above in the form of a second order difference equation and find its characteristics roots.\n",
    "\n",
    "Assume that $I_0 (1 + g)^t + c_0=0$, which makes this a homogenous equation which only depends on $Y(\\cdot)$, $b$ and $c$."
   ]
  },
  {
   "cell_type": "code",
   "execution_count": 4,
   "metadata": {},
   "outputs": [
    {
     "data": {
      "text/latex": [
       "$\\displaystyle I_{0} \\left(g + 1\\right)^{t} - b Y{\\left(t - 2 \\right)} + c_{0} + \\left(b + c\\right) Y{\\left(t - 1 \\right)}$"
      ],
      "text/plain": [
       "I_0*(g + 1)**t - b*Y(t - 2) + c_0 + (b + c)*Y(t - 1)"
      ]
     },
     "execution_count": 4,
     "metadata": {},
     "output_type": "execute_result"
    }
   ],
   "source": [
    "sp.factor(output, Y(t-1))"
   ]
  },
  {
   "cell_type": "markdown",
   "metadata": {},
   "source": [
    "$$\n",
    "Y_{t} - (b+c) Y_{t-1} + b Y_{t-2} = 0\n",
    "$$\n",
    "\n",
    "The base characteristic equation is:\n",
    "$$\n",
    "x^2 - A x - B = 0\n",
    "$$\n",
    "\n",
    "with characteristic roots:\n",
    "$$\n",
    "r, s = \\frac{A \\pm \\sqrt{A^2 + 4 B}}{2} \\qquad |r| > |s|\n",
    "$$\n",
    "\n",
    "(See last exercise for details)\n",
    "\n",
    "Hence, in this case $A = b+c$ and $B = -b$.\n",
    "\n",
    "$$\n",
    "r, s = \\frac{(b+c) \\pm \\sqrt{(b+c)^2 - 4 b}}{2}\n",
    "$$"
   ]
  },
  {
   "cell_type": "markdown",
   "metadata": {},
   "source": [
    "**Question:** When are these roots real?\n",
    "\n",
    "**Answer:** When $(b+c)^2 - 4 b \\geq 0$.\n",
    "\n",
    "**Question:** Assuming that the roots are real, what is the condition for stability?\n",
    "\n",
    "**Answer:** $|r| < 1$."
   ]
  },
  {
   "cell_type": "markdown",
   "metadata": {},
   "source": []
  },
  {
   "cell_type": "markdown",
   "metadata": {},
   "source": [
    "## Section 3: Introducing maximum and minimum output\n",
    "\n",
    "These results are very similar to the Samuelson model discussed in the last self study.\n",
    "As we have noted, while the model is able to generate cycles, they are structurally unstable; a slight shift ing $b$ above or blow 1 leads the system to either ex or implode.\n",
    "\n",
    "Hicks (1950) proposed that we add a ceilings and floors to the output.\n",
    "\n",
    "Speficially we will assume that the evolution of output is given by:\n",
    "\n",
    "$$\n",
    "Y_t = (b + c) Y_{t - 1} - b Y_{t - 2 } + I_{0} (g + 1)^{t}+ c_{0} \n",
    "$$\n",
    "\n",
    "but now, ever time this output falls below $Y_{min}$ or above $Y_{max}$, the output is reset to $Y_{min}$ or $Y_{max}$ respectively.\n",
    "\n",
    "$$\n",
    "Y_\\text{min} = \\frac{c_0+I_0 (1+g)^t - d}{1-c}\n",
    "$$\n",
    "\n",
    "$$\n",
    "Y_\\text{max} = \\frac{c_0+I_0 (1+g)^t + m \\times t}{1-c}\n",
    "$$\n",
    "\n",
    "where $d$ and $m$ are positive constants describing the distance from the equilibrium output (you found above).\n",
    "\n",
    "### Task 1: Write the model in python using either recursion, for loops or OOP.\n",
    "\n",
    "### Task 2: Plot the evolution for the following parameter values:\n",
    "\n",
    "`b=3.5, c=0.6, g=0.03, d=1.4, m=1.1, I_0=1, c_0=1, Y0=5, Y1=4, t_max=100`"
   ]
  },
  {
   "cell_type": "markdown",
   "metadata": {},
   "source": [
    "i"
   ]
  },
  {
   "cell_type": "code",
   "execution_count": 5,
   "metadata": {},
   "outputs": [],
   "source": [
    "from functools import lru_cache"
   ]
  },
  {
   "cell_type": "code",
   "execution_count": 6,
   "metadata": {},
   "outputs": [],
   "source": [
    "def Y_bound(t, off_set, I_0, c_0, c, g):\n",
    "    investment = I_0 * (1+g)**t\n",
    "    return (c_0 + investment + off_set) / (1 - c)"
   ]
  },
  {
   "cell_type": "code",
   "execution_count": 7,
   "metadata": {},
   "outputs": [],
   "source": [
    "def output_dynamics(b, c, g, d, m, I_0, c_0, Y0, Y1, t_max=10) -> list:\n",
    "    @lru_cache(maxsize=None)\n",
    "    def Y(t):\n",
    "        if t < 0:\n",
    "            raise ValueError('t must be non-negative')\n",
    "        elif t == 0:\n",
    "            return Y0\n",
    "        elif t == 1:\n",
    "            return Y1\n",
    "        else:\n",
    "            investment = I_0 * (1+g)**t\n",
    "            unbound_Y = (b+c) * Y(t-1) - b * Y(t-2) + investment + c_0\n",
    "            \n",
    "            lower_bound = Y_bound(t, -d, I_0, c_0, c, g)\n",
    "            upper_bound = Y_bound(t, m*t, I_0, c_0, c, g)\n",
    "            \n",
    "            if unbound_Y < lower_bound:\n",
    "                return lower_bound\n",
    "            elif unbound_Y > upper_bound:\n",
    "                return upper_bound\n",
    "            else:\n",
    "                return unbound_Y\n",
    "    y_seq = [Y(t) for t in range(t_max+1)]\n",
    "    return y_seq"
   ]
  },
  {
   "cell_type": "code",
   "execution_count": 8,
   "metadata": {},
   "outputs": [],
   "source": [
    "import matplotlib.pyplot as plt\n",
    "\n",
    "\n",
    "def plot_dynamics(b, c, g, d, m, I_0, c_0, Y0, Y1, t_max=10):\n",
    "    y_seq = output_dynamics(b, c, g, d, m, I_0, c_0, Y0, Y1, t_max)\n",
    "    lower_bound = [Y_bound(t, -d, I_0, c_0, c, g) for t in range(t_max+1)]\n",
    "    upper_bound = [Y_bound(t, m*t, I_0, c_0, c, g) for t in range(t_max+1)]\n",
    "    plt.plot(lower_bound, 'r--')\n",
    "    plt.plot(y_seq)\n",
    "    plt.plot(upper_bound, 'r--')\n",
    "    plt.xlabel('$t$')\n",
    "    plt.ylabel('$Y$')\n",
    "    plt.yscale('log')"
   ]
  },
  {
   "cell_type": "code",
   "execution_count": 9,
   "metadata": {},
   "outputs": [
    {
     "data": {
      "image/png": "[encoded data removed]",
      "text/plain": [
       "<Figure size 350x262.5 with 1 Axes>"
      ]
     },
     "metadata": {},
     "output_type": "display_data"
    }
   ],
   "source": [
    "with plt.style.context([\"science\", \"no-latex\"]):\n",
    "    plot_dynamics(b=3.5, c=0.6, g=0.03, d=1.4, m=1.1, I_0=1, c_0=1, Y0=5, Y1=4, t_max=100)\n",
    "    plt.tight_layout()\n",
    "    plt.show()"
   ]
  },
  {
   "cell_type": "code",
   "execution_count": null,
   "metadata": {},
   "outputs": [],
   "source": []
  },
  {
   "cell_type": "code",
   "execution_count": null,
   "metadata": {},
   "outputs": [],
   "source": []
  }
 ],
 "metadata": {
  "kernelspec": {
   "display_name": "edc",
   "language": "python",
   "name": "python3"
  },
  "language_info": {
   "codemirror_mode": {
    "name": "ipython",
    "version": 3
   },
   "file_extension": ".py",
   "mimetype": "text/x-python",
   "name": "python",
   "nbconvert_exporter": "python",
   "pygments_lexer": "ipython3",
   "version": "3.11.5"
  }
 },
 "nbformat": 4,
 "nbformat_minor": 2
}
