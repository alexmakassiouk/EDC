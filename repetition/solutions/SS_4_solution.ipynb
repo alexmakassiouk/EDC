{
 "cells": [
  {
   "cell_type": "markdown",
   "metadata": {},
   "source": [
    "# Self Study 4: Fixed Points and Stability"
   ]
  },
  {
   "cell_type": "markdown",
   "metadata": {},
   "source": [
    "## Section 1: Linear Stability Analysis\n",
    "\n",
    "In this section, you will create a Python function to analyze the fixed points and their stability."
   ]
  },
  {
   "cell_type": "code",
   "execution_count": 1,
   "metadata": {},
   "outputs": [],
   "source": [
    "# Import libraries\n",
    "import numpy as np\n",
    "from scipy.integrate import odeint\n",
    "from scipy.optimize import fsolve\n",
    "import matplotlib.pyplot as plt"
   ]
  },
  {
   "cell_type": "markdown",
   "metadata": {},
   "source": [
    "### Task 1: Function to Find Fixed Points\n",
    "\n",
    "Write a Python function, `find_fixed_points`, that takes an ODE function and initial guesses for fixed points, and returns the calculated fixed points.\n",
    "\n",
    "   **Hint**: Use `fsolve` from `scipy.optimize` to find the fixed points based on your initial guesses.\n"
   ]
  },
  {
   "cell_type": "code",
   "execution_count": 2,
   "metadata": {},
   "outputs": [],
   "source": [
    "def find_fixed_points(ode_func, initial_guesses):\n",
    "    fixed_points = []\n",
    "    for guess in initial_guesses:\n",
    "        # Use fsolve to find the root\n",
    "        result = fsolve(ode_func, guess)\n",
    "        fixed_points.extend(result)\n",
    "    return fixed_points"
   ]
  },
  {
   "cell_type": "markdown",
   "metadata": {},
   "source": [
    "### Task 2: Function for Linear Stability Analysis\n",
    "\n",
    "Write another Python function, `linear_stability_analysis`, that takes an ODE function, its fixed points, and returns the stability type (\"Stable\" or \"Unstable\") of each fixed point.\n",
    "\n",
    "**Hint**: Perturb the fixed point by a small value $\\Delta$ and check the sign of the ODE.\n"
   ]
  },
  {
   "cell_type": "markdown",
   "metadata": {},
   "source": [
    "http://www.scholarpedia.org/w/images/d/db/Equilibrium_figure_1d.gif"
   ]
  },
  {
   "cell_type": "code",
   "execution_count": 3,
   "metadata": {},
   "outputs": [],
   "source": [
    "def linear_stability_analysis(ode_func, fixed_points, delta=1e-3):\n",
    "    stability = []\n",
    "    for point in fixed_points:\n",
    "        perturbed_point_up = point + delta\n",
    "        perturbed_point_down = point - delta\n",
    "        \n",
    "        # Calculate derivatives at perturbed points\n",
    "        deriv_up = ode_func(perturbed_point_up, None)\n",
    "        deriv_down = ode_func(perturbed_point_down, None)\n",
    "        \n",
    "        if deriv_up > 0 and deriv_down < 0:\n",
    "            stability.append(\"Unstable\")\n",
    "        elif deriv_up < 0 and deriv_down > 0:\n",
    "            stability.append(\"Stable\")\n",
    "        else:\n",
    "            stability.append(\"Cannot determine\")\n",
    "    return stability"
   ]
  },
  {
   "cell_type": "markdown",
   "metadata": {},
   "source": [
    "### Task 3: Combine Into `stability` Function\n",
    "\n",
    "Combine `find_fixed_points` and `linear_stability_analysis` into a single function named `stability`. This function should take an ODE and initial guesses for fixed points, and print out each fixed point along with its stability type.\n"
   ]
  },
  {
   "cell_type": "code",
   "execution_count": 4,
   "metadata": {},
   "outputs": [],
   "source": [
    "def stability(ode_func, initial_guesses, delta=1e-3):\n",
    "    # Find fixed points\n",
    "    fixed_points = find_fixed_points(ode_func, initial_guesses)\n",
    "    \n",
    "    # Analyze stability\n",
    "    stability_types = linear_stability_analysis(ode_func, fixed_points, delta)\n",
    "    \n",
    "    # Print results\n",
    "    for i, point in enumerate(fixed_points):\n",
    "        print(f\"Fixed Point {i + 1}: {point:.4f}, Stability: {stability_types[i]}\")\n"
   ]
  },
  {
   "cell_type": "markdown",
   "metadata": {},
   "source": [
    "### Task 4: Explore Various ODEs\n",
    "\n",
    "### Example 1: Logistic Equation\n",
    "\n",
    "Use the `stability` function to analyze the logistic equation:\n",
    "\n",
    "$$\n",
    "\\frac{dN}{dt} = rN \\left(1 - \\frac{N}{K}\\right)\n",
    "$$\n",
    "\n",
    "### Example 2: Exponential Growth\n",
    "\n",
    "Use the `stability` function to analyze the exponential growth equation:\n",
    "\n",
    "$$\n",
    "\\frac{dN}{dt} = rN\n",
    "$$\n",
    "\n",
    "### Example 3: A function of your choice\n"
   ]
  },
  {
   "cell_type": "code",
   "execution_count": 5,
   "metadata": {},
   "outputs": [
    {
     "name": "stdout",
     "output_type": "stream",
     "text": [
      "Logistic Equation Stability Analysis:\n",
      "Fixed Point 1: 0.0000, Stability: Unstable\n",
      "Fixed Point 2: 100.0000, Stability: Stable\n"
     ]
    }
   ],
   "source": [
    "# Example 1: Logistic Equation\n",
    "def logistic_eq(N, t=None):\n",
    "    r = 0.1  # Growth rate\n",
    "    K = 100  # Carrying capacity\n",
    "    return r * N * (1 - N / K)\n",
    "\n",
    "print(\"Logistic Equation Stability Analysis:\")\n",
    "stability(logistic_eq, initial_guesses=[0, 200])\n"
   ]
  },
  {
   "cell_type": "code",
   "execution_count": 6,
   "metadata": {},
   "outputs": [
    {
     "name": "stdout",
     "output_type": "stream",
     "text": [
      "\n",
      "Exponential Growth Stability Analysis:\n",
      "Fixed Point 1: 0.0000, Stability: Unstable\n",
      "Fixed Point 2: 0.0000, Stability: Unstable\n"
     ]
    }
   ],
   "source": [
    "# Example 2: Exponential Growth\n",
    "def exponential_growth(N, t=None):\n",
    "    r = 0.1  # Growth rate\n",
    "    return r * N\n",
    "\n",
    "print(\"\\nExponential Growth Stability Analysis:\")\n",
    "stability(exponential_growth, initial_guesses=[0, 10])"
   ]
  },
  {
   "cell_type": "markdown",
   "metadata": {},
   "source": [
    "## Section 2: A Labor Market Example\n",
    "\n",
    "\n",
    "\n",
    "#### Background\n",
    "\n",
    "The dynamics of the labor market can be modeled by the following system of equations:\n",
    "\n",
    "The rate of change of wage ($ w $) is dependent on the difference between labor demand ($ l^d $) and labor supply ($ l^s $):\n",
    "\n",
    "$$\n",
    "\\dot{w} = \\beta (l^d - l^s)\n",
    "$$\n",
    "where $ \\beta $ is a positive constant.\n",
    "\n",
    "Labor demand decreases linearly with wage:\n",
    "$$\n",
    "l^d(w) = \\mu - \\gamma w\n",
    "$$\n",
    "where $\\mu$ and $\\gamma$ are positive constants.\n",
    "\n",
    "Labor supply is a function of wage and is influenced by the \"negative income effect\":\n",
    "   * As wages increase, income increases, leading to a greater demand for leisure and a decrease in labor supply after a certain point."
   ]
  },
  {
   "cell_type": "markdown",
   "metadata": {},
   "source": [
    "### Part 1: Setup\n",
    "\n",
    " **Labor Supply and Demand Functions**: Write a Python function `labor_supply(w, alpha, delta)` that models $ l^s(w) $ using a quadratic function.\n",
    "   - The function should initially increase with $ w $ but should decrease after reaching a peak (i.e., a quadatic function `alpha * x - delta * x**2`).\n",
    "   \n",
    "Labour demand decreases linearly with wage: $ l^d(w) = \\mu - \\gamma w $ where $ \\mu $ and $ \\gamma $ are positive constants."
   ]
  },
  {
   "cell_type": "code",
   "execution_count": 7,
   "metadata": {},
   "outputs": [],
   "source": [
    "def labor_supply(w, alpha, delta):\n",
    "    # Your code here\n",
    "    l_s = alpha * w - delta * w ** 2\n",
    "    return l_s\n",
    "\n",
    "def labor_demand(w, mu, gamma):\n",
    "    return mu - gamma * w"
   ]
  },
  {
   "cell_type": "markdown",
   "metadata": {},
   "source": [
    "**Wage Dynamics**: Write a Python function `wage_dynamics(w, beta, mu, gamma, alpha, delta)` that returns $ \\dot{w} $ based on the given $ w $ and parameters."
   ]
  },
  {
   "cell_type": "code",
   "execution_count": 8,
   "metadata": {},
   "outputs": [],
   "source": [
    "def wage_dynamics(w, beta, mu, gamma, alpha, delta):\n",
    "    ld = labor_demand(w, mu, gamma)\n",
    "    ls = labor_supply(w, alpha, delta)\n",
    "    return beta * (ld - ls)\n"
   ]
  },
  {
   "cell_type": "code",
   "execution_count": 9,
   "metadata": {},
   "outputs": [],
   "source": [
    "# Define parameters for the example\n",
    "beta = 1\n",
    "mu = 10\n",
    "gamma = 1\n",
    "alpha = 2\n",
    "delta = 0.1"
   ]
  },
  {
   "cell_type": "markdown",
   "metadata": {},
   "source": [
    "**Visualization**: Plot $ \\dot{w} $ as a function of $ w $ for different sets of parameters $ \\beta, \\mu, \\gamma, \\alpha, \\delta $. **Hint**: use `ipywidgets` interact"
   ]
  },
  {
   "cell_type": "code",
   "execution_count": 10,
   "metadata": {},
   "outputs": [
    {
     "data": {
      "application/vnd.jupyter.widget-view+json": {
       "model_id": "a5aafb001e7844a781f32f74c7e55e6d",
       "version_major": 2,
       "version_minor": 0
      },
      "text/plain": [
       "interactive(children=(FloatSlider(value=1.0, description='beta', max=3.0, min=-1.0), IntSlider(value=10, descr…"
      ]
     },
     "metadata": {},
     "output_type": "display_data"
    }
   ],
   "source": [
    "# Your code for plotting here\n",
    "\n",
    "from ipywidgets import interact\n",
    "# Create wage values for plotting\n",
    "\n",
    "@interact\n",
    "def plot_wage_dynamics(beta=1., mu=10, gamma=1, alpha=2, delta=0.1):\n",
    "    # Calculate wage dynamics for these wage values\n",
    "    w_values = np.linspace(0, 30, 100)\n",
    "    dw_dt_values = wage_dynamics(w_values, beta, mu, gamma, alpha, delta)\n",
    "\n",
    "    # Plotting\n",
    "    plt.figure(figsize=(10, 6))\n",
    "    plt.plot(w_values, dw_dt_values, label=f'beta={beta}, mu={mu}, gamma={gamma}, alpha={alpha}, delta={delta}')\n",
    "    plt.axhline(0, color='black', linewidth=1)\n",
    "    plt.xlabel('Wage (w)')\n",
    "    plt.ylabel('Rate of change of wage (dw/dt)')\n",
    "    plt.title('Wage Dynamics')\n",
    "    plt.legend()\n",
    "    plt.show()"
   ]
  },
  {
   "cell_type": "markdown",
   "metadata": {},
   "source": [
    "### Section 3: Fixed Points and Stability (Labour Market)\n",
    "\n",
    "Solve the system of equations to find the fixed points, either analytically or using `sympy` (see [sympy documentation](https://docs.sympy.org/latest/modules/solvers/solvers.html#system-of-nonlinear-equations)).\n",
    "\n",
    "\n",
    "$$\n",
    "\\dot{w} = \\beta (l^d - l^s) = \\beta (\\mu - \\gamma w - (\\alpha w - \\delta w^2))\n",
    "$$"
   ]
  },
  {
   "cell_type": "markdown",
   "metadata": {},
   "source": [
    "To find the equilibrium points, we need to solve $ \\dot{w} = 0 $. This gives us:\n",
    "\n",
    "$$\n",
    "\\beta (\\mu - \\gamma w - (\\alpha w - \\delta w^2)) = 0\n",
    "$$\n",
    "$$\n",
    "\\mu - \\gamma w - \\alpha w + \\delta w^2 = 0\n",
    "$$\n",
    "$$\n",
    "\\delta w^2 - (\\gamma + \\alpha) w + \\mu = 0\n",
    "$$"
   ]
  },
  {
   "cell_type": "code",
   "execution_count": 11,
   "metadata": {},
   "outputs": [
    {
     "data": {
      "text/plain": [
       "[3.81966011250105, 26.1803398874989]"
      ]
     },
     "execution_count": 11,
     "metadata": {},
     "output_type": "execute_result"
    }
   ],
   "source": [
    "from sympy import symbols, solve\n",
    "\n",
    "# Define variables and parameters\n",
    "w = symbols('w')\n",
    "\n",
    "# Define the equation for equilibrium\n",
    "equilibrium_eq = delta * w ** 2 - (gamma + alpha) * w + mu\n",
    "\n",
    "# Solve for equilibrium wage\n",
    "equilibrium_wage = solve(equilibrium_eq, w)\n",
    "equilibrium_wage"
   ]
  },
  {
   "cell_type": "code",
   "execution_count": 12,
   "metadata": {},
   "outputs": [
    {
     "data": {
      "image/png": "[encoded data removed]",
      "text/plain": [
       "<Figure size 1000x600 with 1 Axes>"
      ]
     },
     "metadata": {},
     "output_type": "display_data"
    }
   ],
   "source": [
    "# Define a range of mu values for the bifurcation analysis\n",
    "mu_values = np.linspace(0, 30,100)\n",
    "\n",
    "# Initialize lists to store equilibrium wages\n",
    "equilibrium_wages_mu_1 = []\n",
    "equilibrium_wages_mu_2 = []\n",
    "\n",
    "# Loop through each mu value and solve for equilibrium wages\n",
    "for mu in mu_values:\n",
    "    equilibrium_wage = solve(delta * w ** 2 - (gamma + alpha) * w + mu, w)\n",
    "\n",
    "    try:\n",
    "        # Append existing equilibria; use None if equilibrium does not exist\n",
    "        equilibrium_wages_mu_1.append(float(equilibrium_wage[0]) if len(equilibrium_wage) > 0 else None)\n",
    "        equilibrium_wages_mu_2.append(float(equilibrium_wage[1]) if len(equilibrium_wage) > 1 else None)\n",
    "    except TypeError:\n",
    "        equilibrium_wages_mu_1.append(None)\n",
    "        equilibrium_wages_mu_2.append(None)\n",
    "\n",
    "# Plotting\n",
    "plt.figure(figsize=(10, 6))\n",
    "plt.plot(mu_values, equilibrium_wages_mu_1, label='Equilibrium Wage 1', markersize=5, linestyle='-', color='blue')\n",
    "plt.plot(mu_values, equilibrium_wages_mu_2, label='Equilibrium Wage 2', markersize=5, linestyle='--', color='red')\n",
    "plt.xlabel('Mu (mu)')\n",
    "plt.ylabel('Equilibrium Wage (w*)')\n",
    "plt.title('Bifurcation Diagram with respect to Mu')\n",
    "plt.legend()\n",
    "plt.grid(True)\n",
    "plt.show()\n"
   ]
  },
  {
   "cell_type": "code",
   "execution_count": 14,
   "metadata": {},
   "outputs": [
    {
     "name": "stdout",
     "output_type": "stream",
     "text": [
      "Fixed Point 1: 6.3397, Stability: Stable\n",
      "Fixed Point 2: 23.6603, Stability: Unstable\n"
     ]
    }
   ],
   "source": [
    "wage_d = lambda w, t=None: wage_dynamics(w, beta, 15, gamma, alpha, delta)\n",
    "\n",
    "stability(wage_d, initial_guesses=[0, 15])"
   ]
  },
  {
   "cell_type": "code",
   "execution_count": null,
   "metadata": {},
   "outputs": [],
   "source": []
  }
 ],
 "metadata": {
  "kernelspec": {
   "display_name": "dl",
   "language": "python",
   "name": "python3"
  },
  "language_info": {
   "codemirror_mode": {
    "name": "ipython",
    "version": 3
   },
   "file_extension": ".py",
   "mimetype": "text/x-python",
   "name": "python",
   "nbconvert_exporter": "python",
   "pygments_lexer": "ipython3",
   "version": "3.10.9"
  },
  "orig_nbformat": 4
 },
 "nbformat": 4,
 "nbformat_minor": 2
}
