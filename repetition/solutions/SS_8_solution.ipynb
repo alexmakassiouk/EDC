{
 "cells": [
  {
   "cell_type": "markdown",
   "metadata": {},
   "source": [
    "# Self Study 8: The Kaldor Model"
   ]
  },
  {
   "cell_type": "markdown",
   "metadata": {},
   "source": [
    "Let's explore the Kaldor model we discussed last week in the lecture. This time, we will use different functional forms for Savings and Investment than the ones you saw in class.\n",
    "\n",
    "The objective of using these functions is to learn how to explore a nonlinear model using the tools we have already encountered, in order to make sense of a model where analytical solutions may not exist.\n",
    "\n",
    "Note: The the takeaway from this exercise is not to memorize specific functions, but to understand the methodology for exploring the model:\n",
    "1. Plot the functions to understand their behavior \n",
    "2. Find fixed points visually\n",
    "3. Look at the Phase Diagram to understand the dynamics of the system\n",
    "4. What if we assume a simpler functional form? How does the model change? Do the conclusions change?\n",
    "\n",
    "\n",
    "## The Model\n",
    "\n",
    "Our economy is described by two variables:\n",
    "\n",
    "1. **Output ($ Y $)**: The total value of all goods and services produced.\n",
    "2. **Capital Stock ($ K $)**: The total capital.\n",
    "\n",
    "Their dyanamics is governed by the following ODEs:\n",
    "\n",
    "$$\n",
    "\\begin{align*}\n",
    "\\frac{dY}{dt} &= \\alpha \\left( I(Y, K) - S(Y, K) \\right)\\\\\n",
    "\\frac{dK}{dt} &= I(Y, K) - \\delta K\n",
    "\\end{align*}\n",
    "$$\n",
    "\n",
    "The way to think about the difference is that production produces two types of output: capital goods and consumption goods. The negative sign in $S$ comes from the fact that savings is the complement of consumption.\n",
    "\n",
    "where:\n",
    "- $ \\alpha $ is the speed at which Y changes in response to discrepancies in investment and savings.\n",
    "- $ \\delta $ is capital depreciation rate.\n",
    "\n",
    "\n",
    "\n",
    "### Investment\n",
    "For our exercise, the investment function $ I(Y, K) $ is given by a cubic function of $Y$ and a linear function of $K$:\n",
    "\n",
    "$$\n",
    "I(Y, K) = 3 + \\frac{1}{1+\\exp(-2.5\\cdot(Y-4))} - \\frac{K}{2}\n",
    "$$\n",
    "\n",
    "Note key features of this function:\n",
    "1. $I$ is non-linear in $ Y $, but linear in $ K $\n",
    "2. $I$ increases in $ Y $, up to a maximum\n",
    "3. $I$ decreases in $ K $\n",
    "\n",
    "\n",
    "> [...] when there is a **great deal of surplus of capacity**, an increase in activity will not induce entrepreneurs to undertake additional construction: the **rise in profits will not stimulate investment**. ... But it will also be small for unusually high levels of activity, because rising costs of construction, increasing costs and increasing difficulty of borrowing will dissuade entrepreneurs from expanding still faster - at a time when they already have large commitments (Kaldor, 1940, p.180)\n",
    "\n",
    "### Savings\n",
    "\n",
    "The savings function $ S(Y, K) $ must be positive and increasing in $ Y $. For our exercise we assume that it only depends on $Y$ not on $K$ and will use the following function:\n",
    "\n",
    "$$\n",
    "S(Y, K) = sY\n",
    "$$\n",
    "\n",
    "where $ s $ is the marginal propensity to save, indicating the fraction of output that is saved.\n",
    "\n",
    "\n",
    "> [...] when incomes are unusually low, savings are cut drastically, and below a certain level of income they will be negative. When incomes are unusually high, people are likely to save not only a higher amount, but also a larger proportion of their income (Kaldor, 1940, p.141)"
   ]
  },
  {
   "cell_type": "markdown",
   "metadata": {},
   "source": [
    "## Section 1: Basic Dynamics"
   ]
  },
  {
   "cell_type": "markdown",
   "metadata": {},
   "source": [
    "### Task 1: Define functions\n",
    "\n",
    "- $S$\n",
    "- $I$\n",
    "- $\\frac{dY}{dt}$\n",
    "- $\\frac{dK}{dt}$"
   ]
  },
  {
   "cell_type": "code",
   "execution_count": 1,
   "metadata": {},
   "outputs": [],
   "source": [
    "import numpy as np\n",
    "import matplotlib.pyplot as plt\n",
    "from ipywidgets import interact\n",
    "from scipy.integrate import odeint\n",
    "from ipywidgets import fixed"
   ]
  },
  {
   "cell_type": "code",
   "execution_count": 2,
   "metadata": {},
   "outputs": [],
   "source": [
    "def investment(Y, K, linear=False):\n",
    "    if linear:\n",
    "        return 3 + Y/10 - K/5\n",
    "    else:\n",
    "        return 1/(1+np.exp(-2.5*(Y-4))) + 3 - K/2\n",
    "\n",
    "\n",
    "def savings(Y, s):\n",
    "    return s * Y\n",
    "\n",
    "\n",
    "def dYdt(I, S, alpha):\n",
    "    return alpha * (I - S)\n",
    "\n",
    "def dKdt(K, I, delta):\n",
    "    return I - delta * K"
   ]
  },
  {
   "cell_type": "markdown",
   "metadata": {},
   "source": [
    "### Task 2: S/I curves\n",
    "\n",
    "- Plot the savings and investment curves for $Y$\n",
    "- Explore parameters for $a$, $b$, $c$, $s$ and $\\delta$ to see how they affect the number of equilibria. "
   ]
  },
  {
   "cell_type": "code",
   "execution_count": 3,
   "metadata": {},
   "outputs": [
    {
     "data": {
      "application/vnd.jupyter.widget-view+json": {
       "model_id": "ae055df1b9384c71aebdc2cb43c333cd",
       "version_major": 2,
       "version_minor": 0
      },
      "text/plain": [
       "interactive(children=(FloatSlider(value=0.5, description='s', max=1.0, min=0.1), FloatSlider(value=1.0, descri…"
      ]
     },
     "metadata": {},
     "output_type": "display_data"
    }
   ],
   "source": [
    "@interact(s=(0.1, 1, 0.1), kk=(0.1, 6, 0.1))\n",
    "def plot_si(s, kk=1.):\n",
    "    Y = np.linspace(0, 10, 100)\n",
    "    # make two subplots one for varying K and one for varying Y\n",
    "    fig, ax = plt.subplots(1, 1, figsize=(4, 4))\n",
    "    ax.plot(Y, investment(Y, K=kk), label='Investment')\n",
    "    ax.plot(Y, savings(Y, s=s), label='Savings')\n",
    "    ax.set_xlim(0)\n",
    "    ax.set_ylim(0)\n",
    "    plt.legend()\n",
    "    plt.xlabel('Output (Y)')\n",
    "    plt.ylabel('Investment (I) / Savings (S)')"
   ]
  },
  {
   "cell_type": "markdown",
   "metadata": {},
   "source": [
    "- **Questions:** When chaning $K$ and $s$ what do you observe? What are the implications for $Y$?\n",
    "- **Answer:** "
   ]
  },
  {
   "cell_type": "markdown",
   "metadata": {},
   "source": [
    "### Task 3: Dynamnics of Y\n",
    "\n",
    "Specifically, plot:\n",
    "- $\\dot{Y}$ vs $Y$ for different values of $K$, $s$.\n",
    "- $\\dot{K}$ vs $K$ for different values of $Y$, $s$ and $\\delta$.\n",
    "\n",
    "This plot will help you understand the dynamics of the system, without having to solve the ODEs.\n",
    "\n",
    "\n",
    "Note: $\\dot{Y}$ is just an other way of writing $\\frac{dY}{dt}$.\n"
   ]
  },
  {
   "cell_type": "code",
   "execution_count": 4,
   "metadata": {},
   "outputs": [
    {
     "data": {
      "application/vnd.jupyter.widget-view+json": {
       "model_id": "55daff52db0b49f19767f2ad22fbf3dd",
       "version_major": 2,
       "version_minor": 0
      },
      "text/plain": [
       "interactive(children=(FloatSlider(value=0.55, description='s', max=1.0, min=0.1, step=0.01), FloatSlider(value…"
      ]
     },
     "metadata": {},
     "output_type": "display_data"
    }
   ],
   "source": [
    "import matplotlib.pyplot as plt\n",
    "from ipywidgets import interact\n",
    "\n",
    "@interact(s=(0.1, 1, 0.01), kk=(0.1, 6, 0.1), alpha=(0.01, 4.0, 0.01), delta=(0.01, 1, .01))\n",
    "def plot_change_y(s, kk, alpha, delta):\n",
    "    Y = np.linspace(0, 10, 100)\n",
    "    # make two subplots one for varying K and one for varying Y\n",
    "    fig, ax = plt.subplots(1, 1, figsize=(4, 4))\n",
    "    I = investment(Y, K=kk)\n",
    "    S = savings(Y, s)\n",
    "    ax.plot(Y, dYdt(I, S, alpha), label=\"$\\dot{Y}$\")\n",
    "    ax.plot(Y, dKdt(kk, I, delta), label=\"$\\dot{K}$\")\n",
    "    plt.xlabel('$Y$')\n",
    "    plt.ylabel('$\\dot{Y}$, $\\dot{K}$')\n",
    "    plt.legend()\n",
    "    \n",
    "    # add horizontal line at 0\n",
    "    plt.axhline(0, color='k')"
   ]
  },
  {
   "cell_type": "markdown",
   "metadata": {},
   "source": [
    "- **Question:** What are the points at which $\\dot{Y} = 0$ and $\\dot{K} = 0$? What is the dynamics of $Y$ around these points?\n",
    "- **Answer:** If the derivative is above 0, then the variable is increasing. If the derivative is below 0, then the variable is decreasing. Therefore we can see that the dynamics of $Y$ around the fixed points is never stable for K, and (may with the correct parameters) have 3 fixed points for Y, stability depends on $s$.\n",
    "\n",
    "- **Question:** What happens to the fixed points when $\\alpha$ changes? What does it mean for the dynamics of the system?\n",
    "- **Answer:**"
   ]
  },
  {
   "cell_type": "markdown",
   "metadata": {},
   "source": [
    "## Section 2: Phase Diagram"
   ]
  },
  {
   "cell_type": "markdown",
   "metadata": {},
   "source": [
    "Plot the phase diagram for the system."
   ]
  },
  {
   "cell_type": "code",
   "execution_count": 5,
   "metadata": {},
   "outputs": [],
   "source": [
    "def kaldor_system(YK, t, s, alpha, delta):\n",
    "    Y, K = YK\n",
    "    I = investment(Y, K)\n",
    "    S = savings(Y, s)\n",
    "    return dYdt(I, S, alpha=alpha), dKdt(K, I, delta=delta)"
   ]
  },
  {
   "cell_type": "code",
   "execution_count": 6,
   "metadata": {},
   "outputs": [],
   "source": [
    "def solve_and_plot(alpha, delta, s):\n",
    "    t = np.linspace(0, 200, 400)\n",
    "    u0 = [1, 1]\n",
    "    sol = odeint(kaldor_system, u0, t, args=(s, alpha, delta))\n",
    "    fig, ax = plt.subplots(1, 2, figsize=(8, 4))\n",
    "    ax[0].plot(t, sol[:, 0], label='Output')\n",
    "    ax[0].plot(t, sol[:, 1], label='Capital')\n",
    "    ax[0].set_xlabel('Time')\n",
    "    ax[0].set_ylabel('Output / Capital')\n",
    "    \n",
    "    ax[1].plot(sol[:, 0], sol[:, 1], label='Output', color='red')\n",
    "    ax[1].set_xlabel('Output')\n",
    "    ax[1].set_ylabel('Capital')\n",
    "    ax[0].legend()\n",
    "    \n",
    "    # plot origin\n",
    "    ax[1].plot(*u0, 'ko')\n",
    "    \n",
    "    # streamplot\n",
    "    Y, K = np.meshgrid(np.linspace(0, 6, 30), np.linspace(0, 6, 30))\n",
    "    dYdt, dKdt = kaldor_system((Y, K), t=None, s=s, alpha=alpha, delta=delta)\n",
    "    ax[1].streamplot(Y, K, dYdt, dKdt, color='gray', density=1.1)\n",
    "    ax[1].set_xlabel('Output')\n",
    "    ax[1].set_ylabel('Capital')\n",
    "    "
   ]
  },
  {
   "cell_type": "code",
   "execution_count": 7,
   "metadata": {},
   "outputs": [
    {
     "data": {
      "application/vnd.jupyter.widget-view+json": {
       "model_id": "80426297345148ca978a65efc1ad686a",
       "version_major": 2,
       "version_minor": 0
      },
      "text/plain": [
       "interactive(children=(FloatSlider(value=0.5, description='delta', max=1.0, step=0.01), Output()), _dom_classes…"
      ]
     },
     "metadata": {},
     "output_type": "display_data"
    },
    {
     "data": {
      "text/plain": [
       "<function __main__.solve_and_plot(alpha, delta, s)>"
      ]
     },
     "execution_count": 7,
     "metadata": {},
     "output_type": "execute_result"
    }
   ],
   "source": [
    "# Use these parameters to start, watch at what happens at delta=0.2\n",
    "interact(solve_and_plot, alpha=fixed(2.2), delta=(0, 1.0, 0.01), s=fixed(0.25))\n"
   ]
  },
  {
   "cell_type": "markdown",
   "metadata": {},
   "source": [
    "## Section 3: What if $I$ is linear also in $Y$?\n",
    "\n",
    "Rerun the above code but with the following investment function:\n",
    "$$\n",
    "I(Y, K) = 3 + \\frac{Y}{3} - \\frac{K}{2}\n",
    "$$\n",
    "\n",
    "- **Question:** What are the point(s) at which $\\dot{Y} = 0$ and $\\dot{K} = 0$? What is the dynamics of $Y$ around these points?\n",
    "- **Answer:**\n",
    "\n",
    "- **Question:** If we find that $Y$ is unstable can be locked in a cycle, what does it mean for the economy?\n",
    "- **Answer:**"
   ]
  },
  {
   "cell_type": "markdown",
   "metadata": {},
   "source": [
    "## Discussion of changing $\\delta$ vs $\\alpha$ what is the mean output?"
   ]
  },
  {
   "cell_type": "code",
   "execution_count": 8,
   "metadata": {},
   "outputs": [
    {
     "data": {
      "application/vnd.jupyter.widget-view+json": {
       "model_id": "5da8e122386746ae98b658e0aa636f43",
       "version_major": 2,
       "version_minor": 0
      },
      "text/plain": [
       "interactive(children=(FloatSlider(value=3.0000000000000004, description='kk', max=6.0, min=0.1), FloatSlider(v…"
      ]
     },
     "metadata": {},
     "output_type": "display_data"
    }
   ],
   "source": [
    "## An alternative to the continuous functions we have used is a piecewise function\n",
    "\n",
    "def saving_piecewise(Y, K, omega=.1, c00=1, c1=.1, c2=.5, c3=.1, k1=3, k2=5):\n",
    "    # compute the breakpoints to have a smooth transition\n",
    "    c01 = c00 + c1 * k1\n",
    "    c02 = c01 + c2 * (k2 - k1)\n",
    "\n",
    "    # Calculate values for each segment\n",
    "    segment1 = c00 + c1 * Y - omega * K\n",
    "    segment2 = c01 + c2 * (Y - k1) - omega * K\n",
    "    segment3 = c02 + c3 * (Y - k2) - omega * K\n",
    "\n",
    "    # apply the correct segment calculation\n",
    "    result = np.where(Y < k1, segment1, np.where(Y < k2, segment2, segment3))\n",
    "    return result\n",
    "\n",
    "\n",
    "@interact(omega=(0.01, 0.5, 0.01), c00=(0, 10, .1), c1=(0.01, 0.5, 0.01), c2=(0.01, 0.5, 0.01), c3=(0.01, 0.5, 0.01), kk=(0.1, 6, 0.1))\n",
    "def plot_piecewise(kk, omega, c00, c1, c2, c3):\n",
    "    Y = np.linspace(0, 10, 100)\n",
    "    S = saving_piecewise(Y, kk, omega, c00, c1, c2, c3)\n",
    "    plt.plot(Y, S)\n",
    "    "
   ]
  },
  {
   "cell_type": "code",
   "execution_count": null,
   "metadata": {},
   "outputs": [],
   "source": []
  }
 ],
 "metadata": {
  "kernelspec": {
   "display_name": "edc",
   "language": "python",
   "name": "python3"
  },
  "language_info": {
   "codemirror_mode": {
    "name": "ipython",
    "version": 3
   },
   "file_extension": ".py",
   "mimetype": "text/x-python",
   "name": "python",
   "nbconvert_exporter": "python",
   "pygments_lexer": "ipython3",
   "version": "3.11.5"
  }
 },
 "nbformat": 4,
 "nbformat_minor": 2
}
