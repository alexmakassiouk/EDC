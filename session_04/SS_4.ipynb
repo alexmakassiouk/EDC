{
 "cells": [
  {
   "cell_type": "markdown",
   "metadata": {},
   "source": [
    "# Self Study 4: Fixed Points and Stability"
   ]
  },
  {
   "cell_type": "markdown",
   "metadata": {},
   "source": [
    "## Section 1: Linear Stability Analysis\n",
    "\n",
    "In this section, you will create a Python function to analyze the fixed points and their stability."
   ]
  },
  {
   "cell_type": "code",
   "execution_count": 1,
   "metadata": {},
   "outputs": [],
   "source": [
    "# Import libraries\n",
    "import numpy as np\n",
    "from scipy.integrate import odeint\n",
    "from scipy.optimize import fsolve\n",
    "import matplotlib.pyplot as plt"
   ]
  },
  {
   "cell_type": "markdown",
   "metadata": {},
   "source": [
    "### Task 1: Function to Find Fixed Points\n",
    "\n",
    "Write a Python function, `find_fixed_points`, that takes an ODE function and initial guesses for fixed points, and returns the calculated fixed points.\n",
    "\n",
    "Use `fsolve` from `scipy.optimize` to find the fixed points based on your initial guesses. Note this will only find one fixed point at a time, so you will need to use multiple \"initial guesses\" to find all the fixed points.\n",
    "\n",
    "In this first part we do it numerically. \n",
    "\n",
    "Later we will use a different method to find all the fixed points at once, with symbolic math (`sympy`).\n"
   ]
  },
  {
   "cell_type": "code",
   "execution_count": 2,
   "metadata": {},
   "outputs": [],
   "source": [
    "def find_fixed_points(ode_func, initial_guesses):\n",
    "    # your code here\n",
    "    intermediate_points = fsolve(func=ode_func, x0=initial_guesses)\n",
    "    fixed_points = set(intermediate_points)\n",
    "    return fixed_points\n"
   ]
  },
  {
   "cell_type": "markdown",
   "metadata": {},
   "source": [
    "### Task 2: Function for Linear Stability Analysis\n",
    "\n",
    "Write another Python function, `linear_stability_analysis`, that takes an ODE function, its fixed points, and returns the stability type (\"Stable\" or \"Unstable\") of each fixed point.\n",
    "\n",
    "**Hint**: Perturb the fixed point by a small value $\\Delta$ and check the sign of the ODE.\n"
   ]
  },
  {
   "cell_type": "code",
   "execution_count": 3,
   "metadata": {},
   "outputs": [],
   "source": [
    "def linear_stability_analysis(ode_func, fixed_points, delta=1e-3):\n",
    "    # your code here\n",
    "    t = np.linspace(0,50,101)\n",
    "    stability = {}\n",
    "    for point in fixed_points:\n",
    "        perturbated_point = point+delta\n",
    "        sol = odeint(func=ode_func, y0=perturbated_point, t=t)\n",
    "        if sol[-1]-perturbated_point < 0:\n",
    "            stability[point] = \"Stable\"\n",
    "        elif sol[-1]-perturbated_point > 0:\n",
    "            stability[point] = \"Unstable\"\n",
    "        else:\n",
    "            stability[point] = \"Saddle\"\n",
    "    return stability"
   ]
  },
  {
   "cell_type": "markdown",
   "metadata": {},
   "source": [
    "### Task 3: Combine Into `stability` Function\n",
    "\n",
    "Combine `find_fixed_points` and `linear_stability_analysis` into a single function named `stability`. This function should take an ODE and initial guesses for fixed points, and print out each fixed point along with its stability type.\n"
   ]
  },
  {
   "cell_type": "code",
   "execution_count": 4,
   "metadata": {},
   "outputs": [],
   "source": [
    "def stability(ode_func, initial_guesses, delta=1e-3):\n",
    "    # Find fixed points\n",
    "    # your code here\n",
    "    fixed_points = find_fixed_points(ode_func=ode_func, initial_guesses=initial_guesses)\n",
    "    \n",
    "    # Analyze stability\n",
    "    # your code here\n",
    "    stabilities = linear_stability_analysis(ode_func=ode_func, fixed_points=fixed_points)\n",
    "    \n",
    "    # Print results\n",
    "    # your code here\n",
    "    for fixed_point, stability in stabilities.items():\n",
    "        print(str(fixed_point) + \": \" + str(stability))\n",
    "    pass\n"
   ]
  },
  {
   "cell_type": "markdown",
   "metadata": {},
   "source": [
    "### Task 4: Explore Various ODEs\n",
    "\n",
    "### Example 1: Logistic Equation\n",
    "\n",
    "Use the `stability` function to analyze the logistic equation:\n",
    "\n",
    "$$\n",
    "\\frac{dN}{dt} = rN \\left(1 - \\frac{N}{K}\\right)\n",
    "$$\n",
    "\n",
    "### Example 2: Exponential Growth\n",
    "\n",
    "Use the `stability` function to analyze the exponential growth equation:\n",
    "\n",
    "$$\n",
    "\\frac{dN}{dt} = rN\n",
    "$$\n",
    "\n",
    "### Example 3: A function of your choice\n"
   ]
  },
  {
   "cell_type": "code",
   "execution_count": 5,
   "metadata": {},
   "outputs": [
    {
     "name": "stdout",
     "output_type": "stream",
     "text": [
      "Logistic Equation Stability Analysis:\n",
      "0.0: Unstable\n",
      "300.0: Stable\n"
     ]
    }
   ],
   "source": [
    "# Example 1: Logistic Equation\n",
    "def logistic_eq(N, t=None):\n",
    "    r = 0.1  # Growth rate\n",
    "    K = 300  # Carrying capacity\n",
    "    return r * N * (1 - N / K)\n",
    "\n",
    "print(\"Logistic Equation Stability Analysis:\")\n",
    "stability(logistic_eq, initial_guesses=[0, 350])\n"
   ]
  },
  {
   "cell_type": "code",
   "execution_count": 6,
   "metadata": {},
   "outputs": [
    {
     "name": "stdout",
     "output_type": "stream",
     "text": [
      "\n",
      "Exponential Growth Stability Analysis:\n",
      "0.0: Stable\n"
     ]
    }
   ],
   "source": [
    "# Example 2: Exponential Growth\n",
    "def exponential_growth(N, t=None):\n",
    "    r = -0.1  # Growth rate\n",
    "    return r * N\n",
    "\n",
    "print(\"\\nExponential Growth Stability Analysis:\")\n",
    "stability(exponential_growth, initial_guesses=[0, 10])"
   ]
  },
  {
   "cell_type": "code",
   "execution_count": 7,
   "metadata": {},
   "outputs": [
    {
     "name": "stdout",
     "output_type": "stream",
     "text": [
      "Transcritical Stability Analysis:\n",
      "0.0: Unstable\n",
      "7.0: Stable\n"
     ]
    }
   ],
   "source": [
    "# Example 3: Transcritical bifurcation\n",
    "def transcritical_bifurcation(N, t=None):\n",
    "    r = 7\n",
    "    return r * N - N**2\n",
    "\n",
    "print(\"Transcritical Stability Analysis:\")\n",
    "stability(transcritical_bifurcation, initial_guesses=[0,10])"
   ]
  },
  {
   "cell_type": "markdown",
   "metadata": {},
   "source": [
    "## Section 2: A Labor Market Example\n",
    "\n",
    "\n",
    "\n",
    "#### Background\n",
    "\n",
    "The dynamics of the labor market can be modeled by the following system of equations:\n",
    "\n",
    "The rate of change of wage ($ w $) is dependent on the difference between labor demand ($ l^d $) and labor supply ($ l^s $):\n",
    "\n",
    "$$\n",
    "\\dot{w} = \\beta (l^d - l^s)\n",
    "$$\n",
    "where $ \\beta $ is a positive constant.\n",
    "\n",
    "Labor demand decreases linearly with wage:\n",
    "$$\n",
    "l^d(w) = \\mu - \\gamma w\n",
    "$$\n",
    "where $\\mu$ and $\\gamma$ are positive constants.\n",
    "\n",
    "Labor supply is a function of wage and is influenced by the \"negative income effect\":\n",
    "   * As wages increase, income increases, leading to a greater demand for leisure and a decrease in labor supply after a certain point."
   ]
  },
  {
   "cell_type": "markdown",
   "metadata": {},
   "source": [
    "### Part 1: Setup\n",
    "\n",
    " **Labor Supply and Demand Functions**: Write a Python function `labor_supply(w, alpha, delta)` that models $ l^s(w) $ using a quadratic function.\n",
    "   - The function should initially increase with $ w $ but should decrease after reaching a peak (i.e., a quadatic function `alpha * x - delta * x**2`).\n",
    "   \n",
    "Labour demand decreases linearly with wage: $ l^d(w) = \\mu - \\gamma w $ where $ \\mu $ and $ \\gamma $ are positive constants."
   ]
  },
  {
   "cell_type": "code",
   "execution_count": 8,
   "metadata": {},
   "outputs": [],
   "source": [
    "def labor_supply(w, alpha, delta):\n",
    "    # Your code here\n",
    "    l_s = alpha * w - delta * w**2\n",
    "    return l_s\n",
    "\n",
    "def labor_demand(w, mu, gamma):\n",
    "    # Your code here\n",
    "    l_d = mu - gamma * w\n",
    "    return l_d"
   ]
  },
  {
   "cell_type": "markdown",
   "metadata": {},
   "source": [
    "**Wage Dynamics**: Write a Python function `wage_dynamics(w, beta, mu, gamma, alpha, delta)` that returns $ \\dot{w} $ based on the given $ w $ and parameters."
   ]
  },
  {
   "cell_type": "markdown",
   "metadata": {},
   "source": [
    "$$l^d = \\mu - \\gamma \\cdot w$$\n",
    "$$l^s = \\alpha \\cdot w - \\delta \\cdot w^2$$\n",
    "$$\\frac{dw}{dt} = \\beta \\cdot (l^d - l^s) = \\beta \\cdot (\\mu - \\gamma \\cdot w - \\alpha \\cdot w + \\delta \\cdot w^2)$$\n",
    "$$\\frac{dw}{dt} = \\beta (w^2 \\cdot \\delta - w \\cdot (\\gamma + \\alpha) + \\mu)$$"
   ]
  },
  {
   "cell_type": "code",
   "execution_count": 23,
   "metadata": {},
   "outputs": [],
   "source": [
    "def wage_dynamics(w,beta, mu, gamma, alpha, delta):\n",
    "    ld = labor_demand(w, mu, gamma)\n",
    "    ls = labor_supply(w, alpha, delta)\n",
    "    return beta * (ld-ls) \n"
   ]
  },
  {
   "cell_type": "code",
   "execution_count": 27,
   "metadata": {},
   "outputs": [],
   "source": [
    "# Define parameters for the example\n",
    "beta = 1\n",
    "mu = 130\n",
    "gamma = 1.6\n",
    "alpha = 5\n",
    "delta = 0.07"
   ]
  },
  {
   "cell_type": "markdown",
   "metadata": {},
   "source": [
    "**Visualization**: Plot $ \\dot{w} $ as a function of $ w $ for different sets of parameters $ \\beta, \\mu, \\gamma, \\alpha, \\delta $. **Hint**: use `ipywidgets` interact"
   ]
  },
  {
   "cell_type": "code",
   "execution_count": 42,
   "metadata": {},
   "outputs": [
    {
     "data": {
      "application/vnd.jupyter.widget-view+json": {
       "model_id": "740ce6f06f8a4b00b4d0af359f238c21",
       "version_major": 2,
       "version_minor": 0
      },
      "text/plain": [
       "interactive(children=(FloatSlider(value=1.0, description='beta', max=5.0, min=0.1), FloatSlider(value=130.0, d…"
      ]
     },
     "metadata": {},
     "output_type": "display_data"
    }
   ],
   "source": [
    "from ipywidgets import interact\n",
    "\n",
    "w = np.linspace(0, 100, 100)\n",
    "@interact(beta=(0.1,5,0.1), mu=(0.1,200,0.1), gamma=(0.1,5,0.1), alpha=(0.1,5,0.1), delta=(0.01,1,0.01))\n",
    "def plot_wage_dynamics(beta=1, mu=130, gamma=1.6, alpha=5, delta=0.07):\n",
    "    # Your code here\n",
    "    plt.figure(figsize=(6,4))\n",
    "    plt.plot(w,wage_dynamics(w,beta,mu,gamma,alpha,delta), label='dW')\n",
    "    plt.plot(w,labor_demand(w,mu,gamma), label='Labor Demand')\n",
    "    plt.plot(w,labor_supply(w,alpha,delta), label='Labor Supply')\n",
    "    plt.xlabel(\"Wage (w)\")\n",
    "    plt.ylabel(\"Wage growth (dW)\")\n",
    "    plt.legend()\n",
    "    plt.grid(True)\n",
    "    plt.show()\n",
    "    # pass"
   ]
  },
  {
   "cell_type": "markdown",
   "metadata": {},
   "source": [
    "For the above parameters we have a stable fixed point for the first intersection $l^s_1=l^d_1$ and an unstable solution in the second intersection $l^s_2 = l^d_2$"
   ]
  },
  {
   "cell_type": "markdown",
   "metadata": {},
   "source": [
    "From the graph, we can see that:\n",
    "\n",
    "- When $ \\dot{w} > 0 $, the wage $ w $ is increasing over time.\n",
    "- When $ \\dot{w} < 0 $, the wage $ w $ is decreasing over time."
   ]
  },
  {
   "cell_type": "markdown",
   "metadata": {},
   "source": [
    "### Section 3: Fixed Points and Stability (Labour Market)\n",
    "\n",
    "Solve the system of equations to find the fixed points, either analytically or using `sympy` (see [sympy documentation](https://docs.sympy.org/latest/modules/solvers/solvers.html#system-of-nonlinear-equations)).\n",
    "\n",
    "\n",
    "$$\n",
    "\\dot{w} = \\beta (l^d - l^s) = \\beta (\\mu - \\gamma w - (\\alpha w - \\delta w^2))\n",
    "$$"
   ]
  },
  {
   "cell_type": "markdown",
   "metadata": {},
   "source": [
    "Writing down the $l^d$ and $l^s$ expressions again:\n",
    "$$l^d = \\mu - \\gamma \\cdot w$$\n",
    "$$l^s = \\alpha \\cdot w - \\delta \\cdot w^2$$"
   ]
  },
  {
   "cell_type": "markdown",
   "metadata": {},
   "source": [
    "To find the equilibrium points, we need to solve $ \\dot{w} = 0 $. To do so, this time we will use `sympy` to solve the system of equations. Read the [sympy documentation](https://docs.sympy.org/latest/modules/solvers/solvers.html#system-of-nonlinear-equations) to learn how to use `sympy` to solve a system of nonlinear equations."
   ]
  },
  {
   "cell_type": "code",
   "execution_count": 43,
   "metadata": {},
   "outputs": [
    {
     "data": {
      "text/plain": [
       "[28.0298740567719, 66.2558402289424]"
      ]
     },
     "execution_count": 43,
     "metadata": {},
     "output_type": "execute_result"
    }
   ],
   "source": [
    "from sympy import symbols, solve\n",
    "\n",
    "# Define variables and parameters\n",
    "# Choosing parameters that made the graph above look somewhat nice\n",
    "beta = 1\n",
    "mu = 130\n",
    "gamma = 1.6\n",
    "alpha = 5\n",
    "delta = 0.07\n",
    "w = symbols('w')\n",
    "# Define the equation for equilibrium\n",
    "eq = beta * (mu - gamma*w-(alpha*w - delta * w**2))\n",
    "# Solve for equilibrium wage\n",
    "solve(eq, w)"
   ]
  },
  {
   "cell_type": "markdown",
   "metadata": {},
   "source": [
    "Use starting cod below to find the fixed points of the system of equations and plot the wage dynamics for different sets of parameters."
   ]
  },
  {
   "cell_type": "code",
   "execution_count": 45,
   "metadata": {},
   "outputs": [
    {
     "data": {
      "image/png": "[encoded data removed]",
      "text/plain": [
       "<Figure size 1000x600 with 1 Axes>"
      ]
     },
     "metadata": {},
     "output_type": "display_data"
    }
   ],
   "source": [
    "# Define a range of mu values for the bifurcation analysis\n",
    "mu_values = np.linspace(0, 170, 250)\n",
    "\n",
    "# Initialize lists to store equilibrium wages\n",
    "equilibrium_wages_mu_1 = []\n",
    "equilibrium_wages_mu_2 = []\n",
    "\n",
    "# Loop through each mu value and solve for equilibrium wages\n",
    "for mu in mu_values:\n",
    "    \n",
    "    equilibrium_wage = solve(beta * (mu - gamma*w-(alpha*w - delta * w**2))) # sympy solve here for specific mu value\n",
    "\n",
    "    try:\n",
    "        # Append existing equilibria; use None if equilibrium does not exist\n",
    "        equilibrium_wages_mu_1.append(float(equilibrium_wage[0]) if len(equilibrium_wage) > 0 else None)\n",
    "        equilibrium_wages_mu_2.append(float(equilibrium_wage[1]) if len(equilibrium_wage) > 1 else None)\n",
    "    except TypeError:\n",
    "        equilibrium_wages_mu_1.append(None)\n",
    "        equilibrium_wages_mu_2.append(None)\n",
    "\n",
    "# Plotting\n",
    "plt.figure(figsize=(10, 6))\n",
    "plt.plot(mu_values, equilibrium_wages_mu_1, label='Equilibrium Wage 1', marker='o', markersize=5, linestyle='-', color='blue')\n",
    "plt.plot(mu_values, equilibrium_wages_mu_2, label='Equilibrium Wage 2', marker='x', markersize=5, linestyle='--', color='red')\n",
    "plt.xlabel('Mu (mu)')\n",
    "plt.ylabel('Equilibrium Wage (w*)')\n",
    "plt.title('Bifurcation Diagram with respect to Mu')\n",
    "plt.legend()\n",
    "plt.grid(True)\n",
    "plt.show()\n"
   ]
  },
  {
   "cell_type": "code",
   "execution_count": null,
   "metadata": {},
   "outputs": [],
   "source": []
  }
 ],
 "metadata": {
  "kernelspec": {
   "display_name": "dl",
   "language": "python",
   "name": "python3"
  },
  "language_info": {
   "codemirror_mode": {
    "name": "ipython",
    "version": 3
   },
   "file_extension": ".py",
   "mimetype": "text/x-python",
   "name": "python",
   "nbconvert_exporter": "python",
   "pygments_lexer": "ipython3",
   "version": "3.10.9"
  },
  "orig_nbformat": 4
 },
 "nbformat": 4,
 "nbformat_minor": 2
}
