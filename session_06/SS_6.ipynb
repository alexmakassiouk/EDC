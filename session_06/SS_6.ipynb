{
 "cells": [
  {
   "cell_type": "markdown",
   "metadata": {},
   "source": [
    "#  Self-Study 6: Coupled Dynamics and Stability 2\n",
    "\n",
    "In this self-study, we build upon the concepts explored in Self-Study 5. \n",
    "First you will apply the same concept studied in Self-Study 5 to a slightly different system.\\\n",
    "Feel free to use the code from the previous self-study as a starting point.\n",
    "The important thing is that you understand what the code is doing and remember the concepts for the exam.\n",
    "\n",
    "What is new in this exercise is that you will be asked to extend an existing model, shortly describe what you did, and interpret the results.\\\n",
    "I may ask you to present your model in class (3 min max), so be prepared to explain your extension.\\\n",
    "**Hint** Make use of interactive plots to make it easy to understand your findings.\n"
   ]
  },
  {
   "cell_type": "markdown",
   "metadata": {},
   "source": [
    "## Section 1: Fixed Points and Phase Portrait with Cubic Terms\n",
    "\n",
    "In this section, we will consider a more complex system of ODEs with **two coupled** variables, $x$ and $y$, and a cubic term:\n",
    "\n",
    "\n",
    "$$\n",
    "\\frac{dx}{dt} = \\alpha x - \\beta x^2 - \\gamma xy\n",
    "$$\n",
    "$$\n",
    "\\frac{dy}{dt} = \\delta y - \\epsilon y^3 - xy\n",
    "$$"
   ]
  },
  {
   "cell_type": "markdown",
   "metadata": {},
   "source": [
    "### Task 1: Find the Fixed Points Analytically (with `sympy`)"
   ]
  },
  {
   "cell_type": "code",
   "execution_count": 1,
   "metadata": {},
   "outputs": [
    {
     "data": {
      "text/plain": [
       "[(0, 0),\n",
       " (0, -sqrt(delta/epsilon)),\n",
       " (0, sqrt(delta/epsilon)),\n",
       " (alpha/beta, 0),\n",
       " ((3*alpha*beta*epsilon*gamma - alpha*beta*epsilon*sqrt(-4*alpha*beta*epsilon + 4*beta**2*delta*epsilon + gamma**2) - 2*beta**2*delta*epsilon*gamma - gamma**3 + gamma**2*sqrt(-4*alpha*beta*epsilon + 4*beta**2*delta*epsilon + gamma**2))/(beta**2*epsilon*(gamma - sqrt(-4*alpha*beta*epsilon + 4*beta**2*delta*epsilon + gamma**2))),\n",
       "  (gamma - sqrt(-4*alpha*beta*epsilon + 4*beta**2*delta*epsilon + gamma**2))/(2*beta*epsilon)),\n",
       " ((3*alpha*beta*epsilon*gamma + alpha*beta*epsilon*sqrt(-4*alpha*beta*epsilon + 4*beta**2*delta*epsilon + gamma**2) - 2*beta**2*delta*epsilon*gamma - gamma**3 - gamma**2*sqrt(-4*alpha*beta*epsilon + 4*beta**2*delta*epsilon + gamma**2))/(beta**2*epsilon*(gamma + sqrt(-4*alpha*beta*epsilon + 4*beta**2*delta*epsilon + gamma**2))),\n",
       "  (gamma + sqrt(-4*alpha*beta*epsilon + 4*beta**2*delta*epsilon + gamma**2))/(2*beta*epsilon))]"
      ]
     },
     "execution_count": 1,
     "metadata": {},
     "output_type": "execute_result"
    }
   ],
   "source": [
    "from sympy import symbols, Eq, solve # your import here\n",
    "from sympy import Symbol, Function\n",
    "\n",
    "# Declare variables\n",
    "x, y = symbols('x y')\n",
    "alpha, beta, gamma, delta, epsilon = symbols('alpha beta gamma delta epsilon')\n",
    "\n",
    "# Define the equations for dx/dt and dy/dt with a cubic term in dy/dt\n",
    "dx_dt = alpha*x - beta * x**2 - gamma *x * y\n",
    "dy_dt = delta * y - epsilon * y**3 - x * y\n",
    "\n",
    "# Solve for fixed points (This may take a while, around 30 seconds)\n",
    "fixed_points = solve((Eq(dx_dt, 0), Eq(dy_dt, 0)), (x,y))\n",
    "\n",
    "fixed_points\n"
   ]
  },
  {
   "cell_type": "markdown",
   "metadata": {},
   "source": [
    "### Task 2: Plot the phase portrait\n",
    "\n",
    "The phase portrait is a plot of the trajectories of the system in the $x-y$ plane. It is useful to visualise the dynamics of the system.\n"
   ]
  },
  {
   "cell_type": "code",
   "execution_count": 23,
   "metadata": {},
   "outputs": [
    {
     "data": {
      "application/vnd.jupyter.widget-view+json": {
       "model_id": "5e882aac7ba741a6b627af17ee059827",
       "version_major": 2,
       "version_minor": 0
      },
      "text/plain": [
       "interactive(children=(FloatSlider(value=3.0, description='a', max=5.0), FloatSlider(value=1.0, description='b'…"
      ]
     },
     "metadata": {},
     "output_type": "display_data"
    }
   ],
   "source": [
    "import matplotlib.pyplot as plt\n",
    "from ipywidgets import interact\n",
    "import numpy as np\n",
    "\n",
    "# Step 1: Find numerical values for the fixed points for the symbolic solutions you found earlier.\n",
    "# Set values for the parameters and use the `.subs()` method to substitute them into the symbolic solutions.\n",
    "\n",
    "def lv_system(x, t, a, b, g, d, e):\n",
    "    dx_dt = a*x[0] - b * x[0]**2 - g *x[0] * x[1]\n",
    "    dy_dt = d * x[1] - e * x[1]**3 - x[0] * x[1]\n",
    "    return [dx_dt, dy_dt]\n",
    "\n",
    "alpha_val = 3\n",
    "beta_val = 1\n",
    "gamma_val = 3\n",
    "delta_val = 5\n",
    "epsilon_val = 1/2\n",
    "\n",
    "\n",
    "    # your code here\n",
    "\n",
    "# Step 2: Generate streamplot of the vector field defined by the equations above. **Hint:** Look at the matplotlib documentation for the `streamplot` function.\n",
    "t = 0\n",
    "X, Y = np.meshgrid(np.linspace(0, 3.5, 50), np.linspace(0, 3.5, 50))\n",
    "\n",
    "# plotting code here, look at streamplot documentation or try `plt.streamplot?`\n",
    "@interact(a=(0,5,0.1), b=(0,5,0.1), g=(0,5,0.1), d=(0,10,0.1), e=(0,5,0.1))\n",
    "def plot_phase_portrait(a=alpha_val, b=beta_val, g=gamma_val, d=delta_val, e=epsilon_val):\n",
    "    fixed_points_val = []\n",
    "    substitution_dict = {alpha: a, beta: b, gamma: g, delta: d, epsilon: e}\n",
    "    for p1, p2 in fixed_points:\n",
    "        fixed_points_val.append((p1.subs(substitution_dict), p2.subs(substitution_dict)))\n",
    "    U, V = lv_system([X,Y], t, a, b, g, d, e)\n",
    "    plt.streamplot(X, Y, U, V, linewidth=1, arrowsize=1, arrowstyle='->', density=2)\n",
    "    x_vals = [fixed_points_val[i][0] for i in range(len(fixed_points_val)) if abs(fixed_points_val[i][0]) < 4 and fixed_points_val[i][1] >= 0]\n",
    "    y_vals = [fixed_points_val[i][1] for i in range(len(fixed_points_val)) if abs(fixed_points_val[i][0]) < 4 and fixed_points_val[i][1] >= 0]\n",
    "    plt.plot(x_vals, y_vals, 'ro')\n",
    "    plt.show()\n",
    "# Step 3: Overlay fixed points onto the streamplot, NOTE: only points that are positive\n",
    "\n"
   ]
  },
  {
   "cell_type": "markdown",
   "metadata": {},
   "source": [
    "\n",
    "### Task 3: Stability of Fixed Points\n",
    "\n",
    "In this section, we will examine the stability of the fixed points for our system."
   ]
  },
  {
   "cell_type": "markdown",
   "metadata": {},
   "source": [
    "\n",
    "First, let's define the Jacobian matrix of the system. The Jacobian matrix $J$ is given by:\n",
    "\n",
    "$$\n",
    "J = \\begin{pmatrix}\n",
    "\\frac{\\partial f}{\\partial x} & \\frac{\\partial f}{\\partial y} \\\\\n",
    "\\frac{\\partial g}{\\partial x} & \\frac{\\partial g}{\\partial y}\n",
    "\\end{pmatrix}\n",
    "$$\n",
    "\n",
    "You can use `sympy` to find these partial derivatives and construct the Jacobian matrix."
   ]
  },
  {
   "cell_type": "code",
   "execution_count": 12,
   "metadata": {},
   "outputs": [
    {
     "data": {
      "text/latex": [
       "$\\displaystyle \\left[\\begin{matrix}\\alpha - 2 \\beta x - \\gamma y & - \\gamma x\\\\- y & \\delta - 3 \\epsilon y^{2} - x\\end{matrix}\\right]$"
      ],
      "text/plain": [
       "Matrix([\n",
       "[alpha - 2*beta*x - gamma*y,                   -gamma*x],\n",
       "[                        -y, delta - 3*epsilon*y**2 - x]])"
      ]
     },
     "execution_count": 12,
     "metadata": {},
     "output_type": "execute_result"
    }
   ],
   "source": [
    "from sympy import diff, Matrix\n",
    "\n",
    "# Define the differential equations or use the ones you defined earlier\n",
    "\n",
    "# Define the Jacobian matrix\n",
    "J = Matrix([[diff(dx_dt, x), diff(dx_dt, y)], [diff(dy_dt, x), diff(dy_dt, y)]])\n",
    "J"
   ]
  },
  {
   "cell_type": "markdown",
   "metadata": {},
   "source": [
    "### Task 4: Explore the stability of the Fixed Point\n",
    "\n",
    "After obtaining the Jacobian matrix describing the stability of the fixed point.\n",
    "\n",
    "**Only consider the fixed points that are positive.**"
   ]
  },
  {
   "cell_type": "code",
   "execution_count": 22,
   "metadata": {},
   "outputs": [
    {
     "name": "stdout",
     "output_type": "stream",
     "text": [
      "(0, 0): [5, 5]\n",
      "(0, 1.4142135623731*sqrt(5)): [-2.12132034355964*sqrt(5) - 3.5 + sqrt(3)*sqrt(21.5833333333333 - 9.19238815542512*sqrt(5)), -2.12132034355964*sqrt(5) - 3.5 + sqrt(3)*sqrt(21.5833333333333 - 9.19238815542512*sqrt(5))]\n",
      "(3, 0): [2, 2]\n"
     ]
    }
   ],
   "source": [
    "# your code here\n",
    "from sympy import Subs\n",
    "\n",
    "fixed_points_val = []\n",
    "substitution_dict = {alpha: alpha_val, beta: beta_val, gamma: gamma_val, delta: delta_val, epsilon: epsilon_val}\n",
    "for p1, p2 in fixed_points:\n",
    "    fixed_points_val.append((p1.subs(substitution_dict), p2.subs(substitution_dict)))\n",
    "\n",
    "positive_fixed_points = [point for point in fixed_points_val if point[0] >=0 and point[1] >= 0]\n",
    "\n",
    "eigenvalues = list(J.eigenvals().keys())\n",
    "evaluated_eigenvalues =[Subs(eigenvalues[i], [alpha, beta, gamma, delta, epsilon], [alpha_val, beta_val, gamma_val, delta_val, epsilon_val]).doit() for i in range(len(eigenvalues))]\n",
    "eigenvalues_fixed_points = {}\n",
    "for point in positive_fixed_points:\n",
    "    for eigenvalue in evaluated_eigenvalues:\n",
    "        eigenvalues_fixed_points[str(point)] = [Subs(eigenvalue, (x,y), point).doit() for i in range(len(evaluated_eigenvalues))]\n",
    "        \n",
    "# print(eigenvalues_fixed_points)\n",
    "for f_p, eigenvalue in eigenvalues_fixed_points.items():\n",
    "    print(f_p + \": \" + str(eigenvalue))"
   ]
  },
  {
   "cell_type": "markdown",
   "metadata": {},
   "source": [
    "## Section 3: Write up your findings\n",
    "\n",
    "- A short report of max 300 words (you can do more, but the point is to be concise).\n",
    "- Make use of interactive plots to illustrate your findings.\n",
    "- What are the implications of your findings?\n",
    "\n",
    "**NOTE:** I will ask a some students to present this section in class. You can volunteer if you want. :)"
   ]
  },
  {
   "cell_type": "markdown",
   "metadata": {},
   "source": []
  },
  {
   "cell_type": "markdown",
   "metadata": {},
   "source": [
    "## Section 2: Your Own Model\n",
    "\n",
    "To review the content covered in SS5 we will we will again consider a simple model system of ODEs and explore its stability.\n",
    "This time, however, you will propose your own model and explore it.\n",
    "\n",
    "I may ask you to present your short report (Section 3) in class, make a few interactive plots and think about an intuitive explanation for the dynamics.\n",
    "\n",
    "\n",
    "##### Original Model\n",
    "1. **Resource (r)**: Represents a natural resource that grow at a constant rate $a$, e.g., grain.\n",
    "2. **Producers (y)**: Companies consume the resource to produce output $y$, at an operational cost of $c$, e.g., labor costs.\n",
    "3. **Production**: The resource is consumed at a rate $k$ — proportional to both current production $y$ and available resources $r$.\n",
    "\n",
    "\n",
    "The model is described by the following differential equations:\n",
    "$$\n",
    "\\frac{dr}{dt} = a r - k y r\n",
    "$$\n",
    "$$\n",
    "\\frac{dy}{dt} = k y r -c y\n",
    "$$\n",
    "\n",
    "### Task 1: Propose an Extension to the Model\n",
    "Think about additional factors that could be relevant be added.\n",
    "Change the equations above, or come up with your own completely new model, and explain your reasoning."
   ]
  }
 ],
 "metadata": {
  "kernelspec": {
   "display_name": "edc",
   "language": "python",
   "name": "python3"
  },
  "language_info": {
   "codemirror_mode": {
    "name": "ipython",
    "version": 3
   },
   "file_extension": ".py",
   "mimetype": "text/x-python",
   "name": "python",
   "nbconvert_exporter": "python",
   "pygments_lexer": "ipython3",
   "version": "3.10.13"
  }
 },
 "nbformat": 4,
 "nbformat_minor": 2
}
