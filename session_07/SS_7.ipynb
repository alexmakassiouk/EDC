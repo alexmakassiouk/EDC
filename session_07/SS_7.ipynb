{
 "cells": [
  {
   "cell_type": "markdown",
   "metadata": {},
   "source": [
    "# Self Study 7: Solow and the Steady State"
   ]
  },
  {
   "cell_type": "markdown",
   "metadata": {},
   "source": [
    "## Section 1: The Solow Model\n",
    "\n",
    "$$\n",
    "Y = A \\cdot K^\\alpha \\cdot L^{1-\\alpha} \n",
    "$$\n",
    "\n",
    "$$\n",
    "\\frac{dK}{dt} = s \\cdot Y - \\delta \\cdot K\n",
    "$$\n",
    "\n",
    "$$\n",
    "\\frac{dL}{dt} = n \\cdot L\n",
    "$$\n",
    "\n",
    "### Task 1: Explain the meaning of each variable in the equations above.\n",
    "\n",
    "Note that the variable names may be different from the slides\n",
    "\n",
    "- $ K $ is the amount of Capital in the economy\n",
    "- $ L $ is the amount of Labour force in the economy. i.e. how many people are working\n",
    "- $ Y $ is the total production of the economy. (GDP)\n",
    "- $ s $ is the savings rate. i.e. which percentage of the total production that is not consumed but saved in investments\n",
    "- $ \\delta $ is the depreciation rate. i.e. how much of the capital that loses it's value this time unit\n",
    "- $ n $ is the labor growth factor. i.e. how much the labour force increases"
   ]
  },
  {
   "cell_type": "markdown",
   "metadata": {},
   "source": [
    "### Task 2: Write down the intensive form of the model.\n",
    "\n",
    "The above equations are in extensive form, which means they are in terms of *total* output, total capital, total labour. To simplify the analysis and reasoning about the implications of the model, we can convert the equations to intensive form, which means they are in terms of output *per capita*, capital per worker, and labour per worker.\n",
    "\n",
    "It is common to use lower case letters to denote intensive variables, and upper case letters to denote extensive variables. For example, $k$ is capital per worker, and $K$ is total capital.\n",
    "\n",
    "Write down the intensive form of the model:\n",
    "\n",
    "$$\n",
    "y = A \\cdot \\frac{K^\\alpha \\cdot L^{1-\\alpha}}{L} = A \\cdot \\frac{K^{\\alpha} \\cdot L^{1-\\alpha}}{L^{\\alpha} \\cdot L^{1-\\alpha}} = A \\cdot k^{\\alpha}\n",
    "$$\n",
    "\n",
    "$$\n",
    "\\frac{dk}{dt} = \\frac{sY-\\delta K}{L} + K \\cdot -L^{-2} \\cdot nL = \\frac{sY-\\delta K - nK}{L} = sy- (\\delta + n)k\n",
    "$$\n",
    "\n",
    "$$\n",
    "\\frac{dl}{dt} = \\frac{d}{dt}(\\frac{L}{L}) = \\frac{d}{dt}1 = 0\n",
    "$$"
   ]
  },
  {
   "cell_type": "markdown",
   "metadata": {},
   "source": [
    "### Task 3: Plot both the extensive and intensive form of the model.\n",
    "\n",
    "Plot Capital and Output per worker over time for the extensive and intensive form of the model.\n",
    "\n"
   ]
  },
  {
   "cell_type": "code",
   "execution_count": 10,
   "metadata": {},
   "outputs": [],
   "source": [
    "import numpy as np\n",
    "\n",
    "def output_per_worker(A, k, alpha):\n",
    "    return A * k ** alpha\n",
    "\n",
    "def total_output(A, K, alpha, L):\n",
    "    return A * K**(alpha)*L**(1-alpha)\n",
    "\n",
    "def intensive_dynamics(y,t,A, alpha, delta, n, s):\n",
    "    output = output_per_worker(A, y[1], alpha)\n",
    "    dk_dt = s * y[0] - n* y[1] - delta * y[1]\n",
    "    return [output, dk_dt]\n",
    "\n",
    "def extensive_dynamics(y,t,A,alpha,delta,n,s):\n",
    "    output = total_output(A, y[1], alpha, y[2])\n",
    "    dK_dt = s * y[0] - delta * y[1]\n",
    "    dL_dt = n*y[2]\n",
    "    return [output, dK_dt, dL_dt]\n",
    "\n",
    "init_conditions = [100, 70, 50]\n"
   ]
  },
  {
   "cell_type": "code",
   "execution_count": 15,
   "metadata": {},
   "outputs": [
    {
     "data": {
      "application/vnd.jupyter.widget-view+json": {
       "model_id": "26224e5c5128496ba66bd55fea4cd362",
       "version_major": 2,
       "version_minor": 0
      },
      "text/plain": [
       "interactive(children=(FloatSlider(value=1.0, description='A', max=10.0), FloatSlider(value=0.4, description='a…"
      ]
     },
     "metadata": {},
     "output_type": "display_data"
    },
    {
     "data": {
      "application/vnd.jupyter.widget-view+json": {
       "model_id": "1675d389ebab49139e0e5ee8d9effc2e",
       "version_major": 2,
       "version_minor": 0
      },
      "text/plain": [
       "interactive(children=(FloatSlider(value=2.0, description='A', max=10.0), FloatSlider(value=0.5, description='a…"
      ]
     },
     "metadata": {},
     "output_type": "display_data"
    }
   ],
   "source": [
    "import matplotlib.pyplot as plt\n",
    "from ipywidgets import interact\n",
    "from scipy.integrate import odeint\n",
    "\n",
    "t = np.linspace(0, 5, 50)\n",
    "\n",
    "@interact(A=(0,10,0.1), alpha=(0,1,0.01), delta=(0,1,0.01), n=(0,4,0.1), s=(0,1,0.01))\n",
    "def plot_wage_dynamics(A=1, alpha=0.4, delta=0.2, n=1, s=0.4):\n",
    "    intensive_solution = odeint(intensive_dynamics, init_conditions[:2], t, args=(A, alpha, delta, n, s))\n",
    "    # Your code here\n",
    "    plt.figure(figsize=(6,4))\n",
    "    plt.plot(t,intensive_solution[:,0], label='y')\n",
    "    plt.plot(t,intensive_solution[:,1], label='k')\n",
    "    plt.xlabel(\"Time (t)\")\n",
    "    plt.ylabel(\"Output / capital\")\n",
    "    plt.legend()\n",
    "    plt.grid(True)\n",
    "    plt.show()\n",
    "@interact(A=(0,10,0.1), alpha=(0,1,0.01), delta=(0,1,0.01), n=(0,4,0.1), s=(0,1,0.01))\n",
    "def plot_extensive_dynamics(A=2, alpha=0.5, delta=0.15, n=0.4, s=0.35):\n",
    "    extensive_solution = odeint(extensive_dynamics, init_conditions, t, args=(A, alpha, delta, n, s))\n",
    "    # Your code here\n",
    "    plt.figure(figsize=(6,4))\n",
    "    plt.plot(t,extensive_solution[:,0], label='Y')\n",
    "    plt.plot(t,extensive_solution[:,1], label='K')\n",
    "    plt.plot(t,extensive_solution[:,2], label='L')\n",
    "    plt.xlabel(\"Time (t)\")\n",
    "    plt.ylabel(\"Output / capital / Labor\")\n",
    "    plt.legend()\n",
    "    plt.grid(True)\n",
    "    plt.show()"
   ]
  },
  {
   "cell_type": "markdown",
   "metadata": {},
   "source": [
    "## Section 2: The Steady State and Golden Rule\n",
    "\n",
    "\n",
    "### Task 1: Find steady state capital and consumption per worker.\n",
    "\n",
    "The steady state is the long-run equilibrium, where capital per worker and output per worker are constant. In other words, the steady state is the point where the change in capital per worker and output per worker are zero. Find the steady state level of capital $k^*$."
   ]
  },
  {
   "cell_type": "markdown",
   "metadata": {},
   "source": [
    "$$k_* = (\\frac{sA}{n+ \\delta})^{\\frac{1}{1-\\alpha}}$$"
   ]
  },
  {
   "cell_type": "code",
   "execution_count": 30,
   "metadata": {},
   "outputs": [
    {
     "data": {
      "text/latex": [
       "$\\displaystyle \\left(\\frac{A s}{\\delta + n}\\right)^{- \\frac{1}{\\alpha - 1}}$"
      ],
      "text/plain": [
       "(A*s/(delta + n))**(-1/(alpha - 1))"
      ]
     },
     "execution_count": 30,
     "metadata": {},
     "output_type": "execute_result"
    }
   ],
   "source": [
    "from sympy import symbols, Eq, solve\n",
    "# Define all the symbols\n",
    "\n",
    "A, k, alpha, s, y, delta, n = symbols('A k alpha s y delta n')\n",
    "\n",
    "eq = s * A*k**alpha - (n+delta)*k# Write the equation here\n",
    "k_star = solve(eq, k)[0]  # save the solution to k_star for later use\n",
    "k_star"
   ]
  },
  {
   "cell_type": "markdown",
   "metadata": {},
   "source": [
    "Wit the steady state level of capital, we can find the steady state level of output per worker, and hance consumption per worker.\n",
    "\n",
    "What is the consumption per worker in the steady state?\n",
    "Recall that $y = A \\cdot k^\\alpha$ and $c = (1-s) \\cdot y$.\n"
   ]
  },
  {
   "cell_type": "code",
   "execution_count": 24,
   "metadata": {},
   "outputs": [
    {
     "data": {
      "text/latex": [
       "$\\displaystyle A \\left(1 - s\\right) \\left(\\left(\\frac{A s}{\\delta + n}\\right)^{- \\frac{1}{\\alpha - 1}}\\right)^{\\alpha}$"
      ],
      "text/plain": [
       "A*(1 - s)*((A*s/(delta + n))**(-1/(alpha - 1)))**alpha"
      ]
     },
     "execution_count": 24,
     "metadata": {},
     "output_type": "execute_result"
    }
   ],
   "source": [
    "c = symbols('c')\n",
    "y = A*k_star**alpha\n",
    "c = (1-s)*y\n",
    "c"
   ]
  },
  {
   "cell_type": "markdown",
   "metadata": {},
   "source": [
    "### Task 2: The Golden Rule level of savings.\n",
    "\n",
    "**Question:** How is the Golden Rule savings level defined?\\\n",
    "**Answer:** $s_{gold} = \\beta$ is the savings rate that leads to $k_{gold}$, the optimal amount of capital per capita to maximize consumption per capita\n",
    "\n",
    "\n",
    "**Question:** If it the real savings rate is higher than the Golden Rule level, what happens to consumption per worker?\\\n",
    "**Answer:** With a savings rate higher than the Golden rule level, the amount of capital will be above equilibrium which leads to the depreciation gain being higher than the output gain and so the level of consumption we could have will instead be used to account for the larger depreciation rate\n",
    "\n",
    "\n",
    "Derive $s_\\text{gold}$.\n",
    "\n",
    "Steps:\n",
    "1. Write down the equation for consumption per worker, $c$ at the steady state $k = k^*$.\n",
    "2. Take the derivative of $c$ with respect to $s$.\n",
    "3. Set the derivative equal to zero and solve for $s$.\n"
   ]
  },
  {
   "cell_type": "markdown",
   "metadata": {},
   "source": [
    "$$c_* = (1-s)\\cdot f(k_*) = f(k_*) - sf(k_*) = f(k_*) - (n+\\delta)k_* = Ak_*^{\\alpha}-(n+\\delta)k_*$$\n"
   ]
  },
  {
   "cell_type": "markdown",
   "metadata": {},
   "source": [
    "$$= A \\cdot ((\\frac{sA}{n+\\delta})^{\\frac{1}{1-\\alpha}})^{\\alpha} - (n+\\delta)\\cdot ((\\frac{sA}{n+\\delta})^{\\frac{1}{1-\\alpha}})  = A \\cdot (\\frac{sA}{n+\\delta})^{\\frac{\\alpha}{1-\\alpha}} - (n+\\delta)\\cdot ((\\frac{sA}{n+\\delta})^{\\frac{1}{1-\\alpha}})$$"
   ]
  },
  {
   "cell_type": "code",
   "execution_count": 41,
   "metadata": {},
   "outputs": [
    {
     "data": {
      "text/latex": [
       "$\\displaystyle A \\left(\\left(\\frac{A s}{\\delta + n}\\right)^{- \\frac{1}{\\alpha - 1}}\\right)^{\\alpha} - \\delta \\left(\\frac{A s}{\\delta + n}\\right)^{- \\frac{1}{\\alpha - 1}} - n \\left(\\frac{A s}{\\delta + n}\\right)^{- \\frac{1}{\\alpha - 1}}$"
      ],
      "text/plain": [
       "A*((A*s/(delta + n))**(-1/(alpha - 1)))**alpha - delta/(A*s/(delta + n))**(1/(alpha - 1)) - n/(A*s/(delta + n))**(1/(alpha - 1))"
      ]
     },
     "execution_count": 41,
     "metadata": {},
     "output_type": "execute_result"
    }
   ],
   "source": [
    "from sympy import diff\n",
    "\n",
    "c_star = A * k_star**alpha - n*k_star - delta * k_star# hint use k_star saved above\n",
    "dcds = diff(c_star, s)# your code here\n",
    "# solve\n",
    "s_gold = solve(dcds, s)[0]\n",
    "# s_gold\n",
    "c_star\n"
   ]
  },
  {
   "cell_type": "markdown",
   "metadata": {},
   "source": [
    "## Section 3: Adding Human Capital\n",
    "\n",
    "Human capital refers to the skills, knowledge, experience, and abilities possessed by workers. In the context of economic growth, human capital is essential because it enhances the productivity of labor.\\\n",
    "Traditional physical capital $K$ like machinery and buildings is not the sole driver of economic output; the skill level and efficiency of the workforce are equally important.\n",
    "\n",
    "\n",
    "A production function incorporating human capital is:\n",
    "\n",
    "$$\n",
    "Y = A \\cdot K^\\alpha \\cdot H^\\beta \\cdot L^{1-\\alpha-\\beta}\n",
    "$$\n",
    "\n",
    "The equations for capital and labor accumulation are:\n",
    "$$\n",
    "\\frac{dK}{dt} = s_k \\cdot Y - \\delta_k \\cdot K\n",
    "$$\n",
    "$$\n",
    "\\frac{dH}{dt} = s_h \\cdot Y - \\delta_h \\cdot H\n",
    "$$\n",
    "$$\n",
    "\\frac{dL}{dt} = n \\cdot L\n",
    "$$"
   ]
  },
  {
   "cell_type": "markdown",
   "metadata": {},
   "source": [
    "### Task 1: Explain the meaning of each variable\n",
    "\n",
    "\n"
   ]
  },
  {
   "cell_type": "markdown",
   "metadata": {},
   "source": [
    "Let's explain the new ones that were introduced in this section:\n",
    "<br>\n",
    "We now have both $\\alpha$ and $\\beta$, I will assume that we have $\\alpha + \\beta \\leq 1$ although I'm not entirely sure if this makes sense.\n",
    "<br>\n",
    "$\\beta$ : The 'importance' of human capital compared to capital and labor force\n",
    "<br>\n",
    "$s_k$ : What we had as $s$ before this section. The savings rate for capital\n",
    "<br>\n",
    "$\\delta_k$ : What we had as $\\delta$ before this section. The depreciation rate for capital\n",
    "<br>\n",
    "$s_h$ : The savings rate for human capital. Can be interpreted as what is invested in the growth of human skill level and efficiency\n",
    "<br>\n",
    "$\\delta_h$ : The depreciation rate for human capital. Can be interpreted as the rate at which human skills and competencies disappear with time"
   ]
  },
  {
   "cell_type": "markdown",
   "metadata": {},
   "source": [
    "\n",
    "### Task 2: Write down the intensive form of the model.\n",
    "\n"
   ]
  },
  {
   "cell_type": "markdown",
   "metadata": {},
   "source": [
    "$$\\frac{dk}{dt} = (\\frac{K}{L})´$$"
   ]
  },
  {
   "cell_type": "markdown",
   "metadata": {},
   "source": [
    "$$= \\frac{dK}{dt}L^{-1} + K \\cdot (L^{-1})´$$"
   ]
  },
  {
   "cell_type": "markdown",
   "metadata": {},
   "source": [
    "$$= \\frac{s_k \\cdot Y - \\delta_k \\cdot K}{L} - K \\cdot L^{-2} \\cdot nL$$"
   ]
  },
  {
   "cell_type": "markdown",
   "metadata": {},
   "source": [
    "$$= \\frac{s_k Y - \\delta_k K - nK}{L}$$"
   ]
  },
  {
   "cell_type": "markdown",
   "metadata": {},
   "source": [
    "$$\\frac{dk}{dt}= s_k y - \\delta_k k - nk = s_k y - (\\delta_k + n)k$$"
   ]
  },
  {
   "cell_type": "markdown",
   "metadata": {},
   "source": [
    "$$\\frac{dh}{dt} = \\frac{dH}{dt}L^{-1} + H \\cdot (L^{-1})´ = \\frac{s_h Y-\\delta_h H}{L} - H \\cdot L^{-2} \\cdot nL$$"
   ]
  },
  {
   "cell_type": "markdown",
   "metadata": {},
   "source": [
    "$$= s_h y - \\delta_h h - n h = s_h y - (\\delta_h + n) h$$"
   ]
  },
  {
   "cell_type": "markdown",
   "metadata": {},
   "source": [
    "$$\\frac{dl}{dt} = 0$$"
   ]
  },
  {
   "cell_type": "markdown",
   "metadata": {},
   "source": [
    "$$y = \\frac{Y}{L} = A\\frac{K^{\\alpha}\\cdot H^{\\beta} \\cdot L^{1-\\alpha-\\beta}}{L^{\\alpha}\\cdot L^{\\beta} \\cdot L^{1-\\alpha-\\beta}}$$"
   ]
  },
  {
   "cell_type": "markdown",
   "metadata": {},
   "source": [
    "$$y = Ak^{\\alpha}h^{\\beta}$$"
   ]
  },
  {
   "cell_type": "code",
   "execution_count": 44,
   "metadata": {},
   "outputs": [],
   "source": [
    "def output_per_worker_human(A, k, h, alpha, beta):\n",
    "    return A * k**alpha * h**beta\n",
    "\n",
    "def intensive_dynamics_human(y,t,A, alpha, beta, delta_k, delta_h, n, s_k, s_h):\n",
    "    output = output_per_worker_human(A, y[1],y[2], alpha, beta)\n",
    "    dk_dt = s_k * y[0] - n* y[1] - delta_k * y[1]\n",
    "    dh_dt = s_h*y[0] - n*y[2] - delta_h*y[2]\n",
    "    return [output, dk_dt, dh_dt]"
   ]
  },
  {
   "cell_type": "code",
   "execution_count": 46,
   "metadata": {},
   "outputs": [
    {
     "data": {
      "application/vnd.jupyter.widget-view+json": {
       "model_id": "7176b2fdaf1246968a73b784cb91f268",
       "version_major": 2,
       "version_minor": 0
      },
      "text/plain": [
       "interactive(children=(FloatSlider(value=1.0, description='A', max=10.0), FloatSlider(value=0.4, description='a…"
      ]
     },
     "metadata": {},
     "output_type": "display_data"
    }
   ],
   "source": [
    "t = np.linspace(0, 5, 50)\n",
    "init_conditions_human = [100, 70, 50]\n",
    "\n",
    "@interact(A=(0,10,0.1), alpha=(0,1,0.01),beta=(0,1,0.01), delta_k=(0,1,0.01),delta_h=(0,1,0.01), n=(0,4,0.1), s_k=(0,1,0.01), s_h=(0,1,0.01))\n",
    "def plot_wage_dynamics(A=1, alpha=0.4, beta = 0.2, delta_k=0.2,delta_h = 0.1, n=1, s_k=0.4, s_h=0.2):\n",
    "    intensive_solution_human = odeint(intensive_dynamics_human, init_conditions_human, t, args=(A, alpha, beta, delta_k, delta_h, n, s_k, s_h))\n",
    "    # Your code here\n",
    "    plt.figure(figsize=(6,4))\n",
    "    plt.plot(t,intensive_solution_human[:,0], label='y')\n",
    "    plt.plot(t,intensive_solution_human[:,1], label='k')\n",
    "    plt.plot(t,intensive_solution_human[:,2], label='h')\n",
    "    plt.xlabel(\"Time (t)\")\n",
    "    plt.ylabel(\"Output / capital / human capital\")\n",
    "    plt.legend()\n",
    "    plt.grid(True)\n",
    "    plt.show()"
   ]
  },
  {
   "cell_type": "markdown",
   "metadata": {},
   "source": []
  }
 ],
 "metadata": {
  "kernelspec": {
   "display_name": "edc",
   "language": "python",
   "name": "python3"
  },
  "language_info": {
   "codemirror_mode": {
    "name": "ipython",
    "version": 3
   },
   "file_extension": ".py",
   "mimetype": "text/x-python",
   "name": "python",
   "nbconvert_exporter": "python",
   "pygments_lexer": "ipython3",
   "version": "3.10.9"
  }
 },
 "nbformat": 4,
 "nbformat_minor": 2
}
