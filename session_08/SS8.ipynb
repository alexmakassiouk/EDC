{
 "cells": [
  {
   "cell_type": "markdown",
   "metadata": {},
   "source": [
    "# Self Study 8: The Kaldor Model"
   ]
  },
  {
   "cell_type": "markdown",
   "metadata": {},
   "source": [
    "Let's explore the Kaldor model we discussed last week in the lecture. This time, we will use different functional forms for Savings and Investment than the ones you saw in class.\n",
    "\n",
    "The objective of using these functions is to learn how to explore a nonlinear model using the tools we have already encountered, in order to make sense of a model where analytical solutions may not exist.\n",
    "\n",
    "Note: The the takeaway from this exercise is not to memorize specific functions, but to understand the methodology for exploring the model:\n",
    "1. Plot the functions to understand their behavior \n",
    "2. Find fixed points visually\n",
    "3. Look at the Phase Diagram to understand the dynamics of the system\n",
    "4. What if we assume a simpler functional form? How does the model change? Do the conclusions change?\n",
    "\n",
    "\n",
    "## The Model\n",
    "\n",
    "Our economy is described by two variables:\n",
    "\n",
    "1. **Output ($ Y $)**: The total value of all goods and services produced.\n",
    "2. **Capital Stock ($ K $)**: The total capital.\n",
    "\n",
    "Their dynamics is governed by the following ODEs:\n",
    "\n",
    "$$\n",
    "\\frac{dY}{dt} = \\alpha \\left( I(Y, K) - S(Y, K) \\right)\n",
    "$$\n",
    "$$\n",
    "\\frac{dK}{dt} = I(Y, K) - \\delta K\n",
    "$$\n",
    "\n",
    "where:\n",
    "- $ \\alpha $ is the speed at which Y changes in response to discrepancies in investment and savings.\n",
    "- $ \\delta $ is capital depreciation rate.\n",
    "\n",
    "\n",
    "### Investment\n",
    "For our exercise, the investment function $ I(Y, K) $ is given by logistic function of $Y$ and a linear function of $K$:\n",
    "\n",
    "$$\n",
    "I(Y, K) = 3 + \\frac{1}{1+\\exp(-2.5\\cdot(Y-4))} - \\frac{K}{2}\n",
    "$$\n",
    "\n",
    "This equations satisfies the necessary properties of the investment function:\n",
    "\n",
    "- $I$ increases in $ Y $ -> $\\partial I/\\partial Y > 0$\n",
    "- $I$ decreases in $ K $ -> $\\partial I/\\partial K < 0$\n",
    "\n",
    "### Savings\n",
    "The savings function $ S(Y, K) $ must be positive and increasing in $ Y $. For our exercise, we assume that it only depends on $Y$ and not on $K$, and we will use the following function:\n",
    "\n",
    "$$\n",
    "S(Y, K) = sY\n",
    "$$\n",
    "\n",
    "where $ s $ is the marginal propensity to save, indicating the fraction of output that is saved."
   ]
  },
  {
   "cell_type": "markdown",
   "metadata": {},
   "source": [
    "## Section 1: Basic Dynamics"
   ]
  },
  {
   "cell_type": "markdown",
   "metadata": {},
   "source": [
    "### Task 1: Define functions\n",
    "\n",
    "- $S$\n",
    "- $I$\n",
    "- $\\frac{dY}{dt}$\n",
    "- $\\frac{dK}{dt}$"
   ]
  },
  {
   "cell_type": "code",
   "execution_count": 1,
   "metadata": {},
   "outputs": [],
   "source": [
    "import numpy as np\n",
    "\n",
    "def investment(Y, K):\n",
    "    # your code here\n",
    "    Y_term = 1/(1+np.exp(-2.5*(Y-4)))\n",
    "    K_term = K/2\n",
    "    return 3 + Y_term - K_term\n",
    "    # return 3 + Y/3 - K_term\n",
    "\n",
    "def savings(Y, s):\n",
    "    # your code here\n",
    "    return s*Y\n",
    "\n",
    "\n",
    "def dYdt(I, S, alpha):\n",
    "    # your code here\n",
    "    return alpha * (I-S)\n",
    "\n",
    "def dKdt(K, I, delta):\n",
    "    # your code here\n",
    "    return I - delta * K"
   ]
  },
  {
   "cell_type": "markdown",
   "metadata": {},
   "source": [
    "### Task 2: S/I curves\n",
    "\n",
    "- Plot the savings and investment curves for $Y$ for different values of $K$.\n",
    "- Also, explore parameters for $s$ to see how they affect the number of equilibria. \n",
    "\n",
    "Use `ipywidgets` to create interactive plots."
   ]
  },
  {
   "cell_type": "code",
   "execution_count": 2,
   "metadata": {},
   "outputs": [
    {
     "data": {
      "application/vnd.jupyter.widget-view+json": {
       "model_id": "2ef14416dd9447f8a685100993063fa9",
       "version_major": 2,
       "version_minor": 0
      },
      "text/plain": [
       "interactive(children=(FloatSlider(value=0.3, description='s', max=1.0, min=0.1), FloatSlider(value=4.6, descri…"
      ]
     },
     "metadata": {},
     "output_type": "display_data"
    }
   ],
   "source": [
    "import matplotlib.pyplot as plt\n",
    "from ipywidgets import interact\n",
    "\n",
    "Y = np.linspace(1,7,100)\n",
    "@interact(s=(0.1, 1, 0.1), kk=(0.1, 10, 0.1))\n",
    "def plot_si(s=0.3, kk=4.6):\n",
    "    # your code here\n",
    "    savings_vals = [savings(Y=y, s=s) for y in Y]\n",
    "    investment_vals = [investment(Y=y, K=kk) for y in Y]\n",
    "    plt.figure(figsize=(6,4))\n",
    "    plt.plot(Y, savings_vals, label='S')\n",
    "    plt.plot(Y, investment_vals, label='I')\n",
    "    plt.grid(True)\n",
    "    plt.legend()\n",
    "    plt.show()"
   ]
  },
  {
   "cell_type": "markdown",
   "metadata": {},
   "source": [
    "- **Questions:** When changing $K$ and $s$ what do you observe? What is the economic interpretation?\n",
    "- **Answer:** Increase in $K$ gives an immediate decrease to $I$ as expected since a high amount of capital in the economy deincentivizes investments, and vice versa. Increase in $s$ gives an increase in the total Savings $S$ and steepens the slope as the line is just this parameter multiplied with the x-value. Economically this means that the bigger the savings rate, the more savings in the whole economy."
   ]
  },
  {
   "cell_type": "markdown",
   "metadata": {},
   "source": [
    "### Task 3: Dynamics of Y\n",
    "\n",
    "Plot:\n",
    "- $\\dot{Y}$ vs $Y$ for different values of $K$ and $s$.\n",
    "- $\\dot{K}$ vs $K$ for different values of $Y$, $s$, and $\\delta$.\n",
    "\n",
    "This plot will help you understand the dynamics of the system without having to solve the ODEs.\n",
    "\n",
    "Note: $\\dot{Y}$ is just another way of writing $\\frac{dY}{dt}$."
   ]
  },
  {
   "cell_type": "code",
   "execution_count": 3,
   "metadata": {},
   "outputs": [
    {
     "data": {
      "application/vnd.jupyter.widget-view+json": {
       "model_id": "b4e4df59c9d1449da2278be0dec605f2",
       "version_major": 2,
       "version_minor": 0
      },
      "text/plain": [
       "interactive(children=(FloatSlider(value=0.55, description='s', max=1.0, min=0.1, step=0.01), FloatSlider(value…"
      ]
     },
     "metadata": {},
     "output_type": "display_data"
    }
   ],
   "source": [
    "import matplotlib.pyplot as plt\n",
    "from ipywidgets import interact\n",
    "Y2 = np.linspace(1,10,100)\n",
    "\n",
    "@interact(s=(0.1, 1, 0.01), kk=(0.1, 6, 0.1), alpha=(0.01, 3.0, 0.01), delta=(0.01, 1, .01))\n",
    "def plot_change_y(s, kk, alpha, delta):\n",
    "    # your code here\n",
    "    changes_in_y = [dYdt(I=investment(Y=y, K=kk), S=savings(Y=y, s=s), alpha=alpha) for y in Y2]\n",
    "    changes_in_k = [dKdt(K=kk, I=investment(Y=y, K=kk), delta=delta) for y in Y2]\n",
    "\n",
    "    plt.figure(figsize=(6,4))\n",
    "    plt.plot(Y2, changes_in_y, label='dYdt')\n",
    "    plt.plot(Y2, changes_in_k, label='dKdt')\n",
    "    plt.grid(True)\n",
    "    plt.legend()\n",
    "    plt.show()"
   ]
  },
  {
   "cell_type": "markdown",
   "metadata": {},
   "source": [
    "- **Question:** What are the points at which $\\dot{Y} = 0$ and $\\dot{K} = 0$? What is the dynamics of $Y$ around these points?\n",
    "- **Answer:**\n",
    "\n",
    "- **Question:** What happens to the fixed points when $\\alpha$ changes? What does it mean for the dynamics of the system?\n",
    "- **Answer:** Fixed points stay at the same place when $\\alpha$ changes!"
   ]
  },
  {
   "cell_type": "markdown",
   "metadata": {},
   "source": [
    "## Section 2: Phase Diagram"
   ]
  },
  {
   "cell_type": "markdown",
   "metadata": {},
   "source": [
    "Plot the phase diagram for the system."
   ]
  },
  {
   "cell_type": "code",
   "execution_count": 4,
   "metadata": {},
   "outputs": [],
   "source": [
    "def kaldor_system(YK, t, s, alpha, delta):\n",
    "    # your code here\n",
    "    Y, K = YK\n",
    "    dydt = dYdt(I=investment(Y=Y, K=K), S=savings(Y=Y, s=s), alpha=alpha)\n",
    "    dkdt = dKdt(K=K, I=investment(Y=Y,K=K), delta=delta)\n",
    "    return dydt, dkdt"
   ]
  },
  {
   "cell_type": "code",
   "execution_count": 8,
   "metadata": {},
   "outputs": [],
   "source": [
    "from scipy.integrate import odeint\n",
    "from ipywidgets import fixed\n",
    "\n",
    "def solve_and_plot(alpha, delta, s):\n",
    "    t = np.linspace(0, 200, 400)\n",
    "    u0 = [5, 4.4]\n",
    "    sol = odeint(kaldor_system, u0, t, args=(s, alpha, delta))\n",
    "    fig, ax = plt.subplots(1, 2, figsize=(16, 8))\n",
    "    ax[0].plot(t, sol[:, 0], label='Output')\n",
    "    ax[0].plot(t, sol[:, 1], label='Capital')\n",
    "    ax[0].set_xlabel('Time')\n",
    "    ax[0].set_ylabel('Output / Capital')\n",
    "    \n",
    "    ax[1].plot(sol[:, 0], sol[:, 1], label='Output', color='red')\n",
    "    ax[1].set_xlabel('Output')\n",
    "    ax[1].set_ylabel('Capital')\n",
    "    \n",
    "    # plot origin\n",
    "    ax[1].plot(*u0, 'ko')\n",
    "    \n",
    "    # streamplot\n",
    "    Y, K = np.meshgrid(np.linspace(0, 8, 30), np.linspace(0, 8, 30))\n",
    "    dYdt, dKdt = kaldor_system((Y, K), t=None, s=s, alpha=alpha, delta=delta)\n",
    "    ax[1].streamplot(Y, K, dYdt, dKdt, color='gray', density=2)\n",
    "    ax[1].set_xlabel('Output')\n",
    "    ax[1].set_ylabel('Capital')\n",
    "    "
   ]
  },
  {
   "cell_type": "code",
   "execution_count": 9,
   "metadata": {},
   "outputs": [
    {
     "data": {
      "application/vnd.jupyter.widget-view+json": {
       "model_id": "4d85202e8d034297b1437593b0e0b51c",
       "version_major": 2,
       "version_minor": 0
      },
      "text/plain": [
       "interactive(children=(FloatSlider(value=0.15000000000000002, description='delta', max=0.3, min=0.01, step=0.01…"
      ]
     },
     "metadata": {},
     "output_type": "display_data"
    }
   ],
   "source": [
    "# Use these parameters to start, watch at what happens at delta=0.2\n",
    "interact(solve_and_plot, alpha=fixed(2.2), delta=(0.01, 0.3, 0.01), s=fixed(0.25));\n"
   ]
  },
  {
   "cell_type": "markdown",
   "metadata": {},
   "source": [
    "## Section 3: What if $I$ is linear also in $Y$?\n",
    "\n",
    "Rerun the above code but with the following investment function:\n",
    "$$\n",
    "I(Y, K) = 3 + \\frac{Y}{3} - \\frac{K}{2}\n",
    "$$\n",
    "\n",
    "- **Question:** What are the point(s) at which $\\dot{Y} = 0$ and $\\dot{K} = 0$? What is the dynamics of $Y$ around these points?\n",
    "- **Answer:**\n",
    "\n",
    "- **Question:** If we find that $Y$ has multiple solutions in one case but not the other, what economic meaning does this have?\n",
    "- **Answer:**"
   ]
  },
  {
   "cell_type": "code",
   "execution_count": null,
   "metadata": {},
   "outputs": [],
   "source": []
  }
 ],
 "metadata": {
  "kernelspec": {
   "display_name": "edc",
   "language": "python",
   "name": "python3"
  },
  "language_info": {
   "codemirror_mode": {
    "name": "ipython",
    "version": 3
   },
   "file_extension": ".py",
   "mimetype": "text/x-python",
   "name": "python",
   "nbconvert_exporter": "python",
   "pygments_lexer": "ipython3",
   "version": "3.10.9"
  }
 },
 "nbformat": 4,
 "nbformat_minor": 2
}
